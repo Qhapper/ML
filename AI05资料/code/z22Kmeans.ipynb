{
 "cells": [
  {
   "cell_type": "code",
   "execution_count": 1,
   "metadata": {},
   "outputs": [
    {
     "name": "stdout",
     "output_type": "stream",
     "text": [
      "[0 1 1 1]\n",
      "[0 0 1 1]\n",
      "[0 0 1 1]\n",
      "[[1.5 2. ]\n",
      " [6.5 8. ]]\n"
     ]
    },
    {
     "data": {
      "text/plain": [
       "array([0, 0, 1, 1], dtype=int64)"
      ]
     },
     "execution_count": 1,
     "metadata": {},
     "output_type": "execute_result"
    }
   ],
   "source": [
    "import numpy as np\n",
    "X = np.array([[1, 2], [2, 2], [6, 8],[7 ,8]])\n",
    "C = np.array([[1.0, 2.0], [2.0, 2.0]]) #聚类中心\n",
    "iters = 3 #迭代次数\n",
    "while iters>0 :\n",
    "    iters -= 1\n",
    "    B = []\n",
    "    for c in C:#遍历每一个聚类中心，计算样本到每个聚类中心的距离\n",
    "        a = ((X - c)**2).sum(axis=1)\n",
    "#         print(a)\n",
    "        B.append(a)\n",
    "    #将样本分配到所属的聚类中心\n",
    "    min_index = np.argmin(np.array(B),axis=0)\n",
    "    print(min_index)\n",
    "    for i in range(len(C)):#获取每个簇的样本，求质心更新C\n",
    "        a = np.mean(X[min_index == i],axis=0)\n",
    "        C[i] = a\n",
    "#         print(a)\n",
    "#打印聚类中心\n",
    "print(C)\n",
    "#打印所有样本的所属的簇\n",
    "min_index"
   ]
  }
 ],
 "metadata": {
  "kernelspec": {
   "display_name": "Python 3",
   "language": "python",
   "name": "python3"
  },
  "language_info": {
   "codemirror_mode": {
    "name": "ipython",
    "version": 3
   },
   "file_extension": ".py",
   "mimetype": "text/x-python",
   "name": "python",
   "nbconvert_exporter": "python",
   "pygments_lexer": "ipython3",
   "version": "3.6.5"
  }
 },
 "nbformat": 4,
 "nbformat_minor": 2
}
