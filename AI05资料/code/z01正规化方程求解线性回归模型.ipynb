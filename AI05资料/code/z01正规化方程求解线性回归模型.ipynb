{
 "cells": [
  {
   "cell_type": "code",
   "execution_count": 62,
   "metadata": {},
   "outputs": [
    {
     "data": {
      "text/plain": [
       "matrix([[1.85],\n",
       "        [1.3 ]])"
      ]
     },
     "execution_count": 62,
     "metadata": {},
     "output_type": "execute_result"
    }
   ],
   "source": [
    "import numpy as np\n",
    "X = np.mat([[1,1],[2,1],[3,1],[4,1]])\n",
    "Y = np.mat([[3.2],[4.7],[7.3],[8.5]])\n",
    "(X.T*X).I*X.T*Y"
   ]
  },
  {
   "cell_type": "code",
   "execution_count": 71,
   "metadata": {},
   "outputs": [
    {
     "data": {
      "text/plain": [
       "0.08374999999999992"
      ]
     },
     "execution_count": 71,
     "metadata": {},
     "output_type": "execute_result"
    }
   ],
   "source": [
    "import numpy as np\n",
    "X = np.mat([[1,1],[2,1],[3,1],[4,1]])\n",
    "Y = np.mat([[3.2],[4.7],[7.3],[8.5]])\n",
    "from sklearn.linear_model import LinearRegression\n",
    "model = LinearRegression(fit_intercept=False)\n",
    "model.fit(X,Y)\n",
    "model.coef_\n",
    "model.intercept_\n",
    "# model.score(X,Y)\n",
    "from sklearn.metrics import mean_squared_error\n",
    "mean_squared_error(y_pred=model.predict(X),y_true=Y)\n"
   ]
  }
 ],
 "metadata": {
  "kernelspec": {
   "display_name": "Python 3",
   "language": "python",
   "name": "python3"
  },
  "language_info": {
   "codemirror_mode": {
    "name": "ipython",
    "version": 3
   },
   "file_extension": ".py",
   "mimetype": "text/x-python",
   "name": "python",
   "nbconvert_exporter": "python",
   "pygments_lexer": "ipython3",
   "version": "3.6.5"
  }
 },
 "nbformat": 4,
 "nbformat_minor": 2
}
