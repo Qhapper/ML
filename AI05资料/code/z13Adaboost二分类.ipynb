{
 "cells": [
  {
   "cell_type": "code",
   "execution_count": 11,
   "metadata": {},
   "outputs": [
    {
     "name": "stdout",
     "output_type": "stream",
     "text": [
      "w 0.9999999999999998\n",
      "[ 1.  1.  1. -1. -1. -1.  1.  1.  1. -1.]\n",
      "0.4236489301936017\n",
      "0.6496414920651304\n",
      "0.752038698388137\n"
     ]
    }
   ],
   "source": [
    "import pandas as pd\n",
    "import numpy as np\n",
    "import math\n",
    "from sklearn.tree import DecisionTreeClassifier\n",
    "df = pd.DataFrame([[0,1],[1,1],[2,1],[3,-1],[4,-1],\n",
    "                   [5,-1],[6,1],[7,1],[8,1],[9,-1]])\n",
    "X = df.iloc[:,[0]]\n",
    "Y = df.iloc[:,[-1]]\n",
    "w = np.ones(df.shape[0])/df.shape[0]#初始化权值分布\n",
    "model =  DecisionTreeClassifier(max_depth=1) ##训练第1个模型\n",
    "model.fit(X,Y,sample_weight=w)\n",
    "model1 = model\n",
    "e = sum((model.predict(X) != Y.values.T[0])*w) #误差率\n",
    "a = 0.5*np.log((1-e)/e) #学习器系数\n",
    "a1 = a\n",
    "z = sum(w*np.exp(-1*a*Y.values.T[0]*model.predict(X))) #规范因子\n",
    "w = w/z*np.exp(-1*a*Y.values.T[0]*model.predict(X))#更新权值分布\n",
    "\n",
    "##训练第2个模型\n",
    "model = DecisionTreeClassifier(max_depth=1)\n",
    "model.fit(X,Y,sample_weight=w)\n",
    "model2 = model\n",
    "e = sum((model.predict(X) != Y.values.T[0])*w) #误差率\n",
    "a = 0.5*np.log((1-e)/e) #学习器系数\n",
    "a2 = a\n",
    "z = sum(w*np.exp(-1*a*Y.values.T[0]*model.predict(X))) #规范因子\n",
    "w = w/z*np.exp(-1*a*Y.values.T[0]*model.predict(X))#更新权值分布\n",
    "\n",
    "##训练第3个模型\n",
    "model = DecisionTreeClassifier(max_depth=1)\n",
    "model.fit(X,Y,sample_weight=w)\n",
    "model3 = model\n",
    "e = sum((model.predict(X) != Y.values.T[0])*w) #误差率\n",
    "a = 0.5*np.log((1-e)/e) #学习器系数\n",
    "a3 = a\n",
    "z = sum(w*np.exp(-1*a*Y.values.T[0]*model.predict(X))) #规范因子\n",
    "w = w/z*np.exp(-1*a*Y.values.T[0]*model.predict(X))#更新权值分布\n",
    "print(\"w\",sum(w))\n",
    "\n",
    "##模型组合\n",
    "print(np.sign(a1*model1.predict(X)+a2*model2.predict(X)+a3*model3.predict(X)))\n",
    "print(a1)\n",
    "print(a2)\n",
    "print(a3)"
   ]
  },
  {
   "cell_type": "code",
   "execution_count": 60,
   "metadata": {},
   "outputs": [
    {
     "name": "stdout",
     "output_type": "stream",
     "text": [
      "w 0.9999999999999998\n",
      "0.4236489301936017\n",
      "0.6496414920651304\n",
      "0.752038698388137\n"
     ]
    }
   ],
   "source": [
    "\n",
    "\n",
    "\n",
    "\n"
   ]
  },
  {
   "cell_type": "code",
   "execution_count": 49,
   "metadata": {},
   "outputs": [
    {
     "name": "stdout",
     "output_type": "stream",
     "text": [
      "1578724480\n"
     ]
    },
    {
     "data": {
      "text/plain": [
       "1578724544"
      ]
     },
     "execution_count": 49,
     "metadata": {},
     "output_type": "execute_result"
    }
   ],
   "source": [
    "a = 5\n",
    "b = a\n",
    "a = 3\n",
    "print(id(a))\n",
    "id(b)"
   ]
  }
 ],
 "metadata": {
  "kernelspec": {
   "display_name": "Python 3",
   "language": "python",
   "name": "python3"
  },
  "language_info": {
   "codemirror_mode": {
    "name": "ipython",
    "version": 3
   },
   "file_extension": ".py",
   "mimetype": "text/x-python",
   "name": "python",
   "nbconvert_exporter": "python",
   "pygments_lexer": "ipython3",
   "version": "3.6.5"
  }
 },
 "nbformat": 4,
 "nbformat_minor": 2
}
