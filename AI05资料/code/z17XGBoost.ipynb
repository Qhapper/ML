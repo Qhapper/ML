{
 "cells": [
  {
   "cell_type": "code",
   "execution_count": 8,
   "metadata": {},
   "outputs": [
    {
     "name": "stdout",
     "output_type": "stream",
     "text": [
      "[14:46:44] 6513x127 matrix with 143286 entries loaded from datas/agaricus.txt.train\n",
      "[14:46:44] 1611x127 matrix with 35442 entries loaded from datas/agaricus.txt.test\n"
     ]
    },
    {
     "data": {
      "text/plain": [
       "array([0., 1., 0., 0., 0., 0., 1., 0., 1., 0., 1., 0., 0., 0., 0., 0., 0.,\n",
       "       1., 0., 0.], dtype=float32)"
      ]
     },
     "execution_count": 8,
     "metadata": {},
     "output_type": "execute_result"
    }
   ],
   "source": [
    "import xgboost as xgb\n",
    "# read in data\n",
    "dtrain = xgb.DMatrix('datas/agaricus.txt.train')\n",
    "dtest = xgb.DMatrix('datas/agaricus.txt.test')\n",
    "# specify parameters via map\n",
    "param = {'max_depth':12, 'eta':1, 'silent':1, 'objective':'binary:logistic' }\n",
    "num_round = 22\n",
    "bst = xgb.train(param, dtrain, num_round)\n",
    "# make prediction\n",
    "preds = bst.predict(dtest)\n",
    "import numpy as np\n",
    "(np.sign(preds[:20]-0.5)+1)/2"
   ]
  },
  {
   "cell_type": "code",
   "execution_count": 13,
   "metadata": {},
   "outputs": [
    {
     "data": {
      "text/plain": [
       "1849.5740191781683"
      ]
     },
     "execution_count": 13,
     "metadata": {},
     "output_type": "execute_result"
    }
   ],
   "source": [
    "from xgboost.sklearn import XGBRegressor\n",
    "import pandas as pd\n",
    "df = pd.read_csv(\"datas/hour.csv\", sep=\",\")\n",
    "\n",
    "## 删除无用的列\n",
    "del df[\"instant\"]\n",
    "del df[\"dteday\"]\n",
    "del df[\"casual\"]\n",
    "del df[\"registered\"]\n",
    "\n",
    "## 构建X和Y\n",
    "X = df.iloc[:,0:-1]\n",
    "Y = df.iloc[:,[-1]]\n",
    "\n",
    "## 划分训练集和测试集\n",
    "from sklearn.model_selection import train_test_split\n",
    "X_train, X_test, Y_train, Y_test = train_test_split(X, Y, test_size = 0.3)\n",
    "\n",
    "model = XGBRegressor(max_depth=15)\n",
    "model.fit(X_train,Y_train)\n",
    "from sklearn.metrics import mean_squared_error\n",
    "mean_squared_error(model.predict(X_test),Y_test)\n"
   ]
  },
  {
   "cell_type": "code",
   "execution_count": 15,
   "metadata": {},
   "outputs": [
    {
     "name": "stderr",
     "output_type": "stream",
     "text": [
      "d:\\Anaconda3\\lib\\site-packages\\sklearn\\preprocessing\\label.py:151: DeprecationWarning: The truth value of an empty array is ambiguous. Returning False, but in future this will result in an error. Use `array.size > 0` to check that an array is not empty.\n",
      "  if diff:\n"
     ]
    },
    {
     "data": {
      "text/plain": [
       "0.9218090233155866"
      ]
     },
     "execution_count": 15,
     "metadata": {},
     "output_type": "execute_result"
    }
   ],
   "source": [
    "from xgboost.sklearn import XGBClassifier\n",
    "import pandas as pd\n",
    "df = pd.read_csv(\"datas/covtype.data\",sep=\",\",header=None)\n",
    "\n",
    "## 构建X和Y\n",
    "X = df.iloc[:,0:-1]\n",
    "Y = df.iloc[:,-1]\n",
    "\n",
    "## 划分训练集和测试集\n",
    "X_train, X_test, Y_train, Y_test = train_test_split(X, Y, test_size = 0.3,random_state = 0)\n",
    "\n",
    "model = XGBClassifier(max_depth=15,n_estimators=10)\n",
    "model.fit(X_train,Y_train)\n",
    "model.score(X_test,Y_test)\n"
   ]
  }
 ],
 "metadata": {
  "kernelspec": {
   "display_name": "Python 3",
   "language": "python",
   "name": "python3"
  },
  "language_info": {
   "codemirror_mode": {
    "name": "ipython",
    "version": 3
   },
   "file_extension": ".py",
   "mimetype": "text/x-python",
   "name": "python",
   "nbconvert_exporter": "python",
   "pygments_lexer": "ipython3",
   "version": "3.6.5"
  }
 },
 "nbformat": 4,
 "nbformat_minor": 2
}
