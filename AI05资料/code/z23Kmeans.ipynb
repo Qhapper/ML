{
 "cells": [
  {
   "cell_type": "code",
   "execution_count": 89,
   "metadata": {},
   "outputs": [
    {
     "data": {
      "text/plain": [
       "D    4004\n",
       "C    3013\n",
       "B    2032\n",
       "A     951\n",
       "dtype: int64"
      ]
     },
     "execution_count": 89,
     "metadata": {},
     "output_type": "execute_result"
    }
   ],
   "source": [
    "import random\n",
    "import pandas as pd\n",
    "a = [[\"A\",10],[\"B\",20],[\"C\",30],[\"D\",40]]\n",
    "#第二个元素越大，采到的概率越大，请采样1w次，然后统计频率\n",
    "res = []\n",
    "for i in range(10000):\n",
    "    s = sum([i[1] for i in a]) * random.random()\n",
    "#     random.shuffle(a)\n",
    "    sums = 0\n",
    "    for i in a:\n",
    "        sums += i[1]\n",
    "        if(sums>s):\n",
    "            res.append(i[0])\n",
    "            break\n",
    "import pandas as pd\n",
    "pd.Series(res).value_counts()"
   ]
  },
  {
   "cell_type": "code",
   "execution_count": 85,
   "metadata": {},
   "outputs": [
    {
     "data": {
      "text/plain": [
       "0.8720615791944174"
      ]
     },
     "execution_count": 85,
     "metadata": {},
     "output_type": "execute_result"
    }
   ],
   "source": [
    "import numpy as np\n",
    "X = np.array([[1, 2], [2, 2], [6, 8],[7 ,8]])\n",
    "C = np.array([[1, 1], [2, 1]])\n",
    "from sklearn.cluster import KMeans\n",
    "model = KMeans(n_clusters=2)\n",
    "model.fit(X,C)\n",
    "model.cluster_centers_\n",
    "labels = model.labels_\n",
    "from sklearn.metrics import silhouette_score\n",
    "silhouette_score(X, labels, metric='euclidean')\n",
    "# model.inertia_\n",
    "# model.inertia_"
   ]
  }
 ],
 "metadata": {
  "kernelspec": {
   "display_name": "Python 3",
   "language": "python",
   "name": "python3"
  },
  "language_info": {
   "codemirror_mode": {
    "name": "ipython",
    "version": 3
   },
   "file_extension": ".py",
   "mimetype": "text/x-python",
   "name": "python",
   "nbconvert_exporter": "python",
   "pygments_lexer": "ipython3",
   "version": "3.6.5"
  }
 },
 "nbformat": 4,
 "nbformat_minor": 2
}
