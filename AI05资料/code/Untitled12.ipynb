{
 "cells": [
  {
   "cell_type": "code",
   "execution_count": 11,
   "metadata": {},
   "outputs": [
    {
     "data": {
      "text/plain": [
       "0.33119913038233784"
      ]
     },
     "execution_count": 11,
     "metadata": {},
     "output_type": "execute_result"
    }
   ],
   "source": [
    "import pandas as pd\n",
    "\n",
    "path = \"datas/hour.csv\"\n",
    "df=pd.read_csv(path)\n",
    "\n",
    "## 删除无用的列\n",
    "df=df.drop(columns=['instant','dteday', 'casual', 'registered'])\n",
    "df.head()\n",
    "\n",
    "## 检查哪些特征需要做独热编码\n",
    "a = df[['season','mnth','hr','weathersit','weekday']]\n",
    "\n",
    "from sklearn.preprocessing import OneHotEncoder\n",
    "hotCoder=OneHotEncoder(sparse = False, handle_unknown = \"ignore\")\n",
    "hot = hotCoder.fit_transform(a)\n",
    "pd.DataFrame(hot).head()\n",
    "\n",
    "## 删除掉独热编码的列\n",
    "df=df.drop(columns=['season','mnth','hr','weathersit','weekday'])\n",
    "df.head()\n",
    "\n",
    "## 多项式扩展\n",
    "b = df[['temp','atemp','hum','windspeed']]\n",
    "from sklearn.preprocessing import PolynomialFeatures\n",
    "polyCoder = PolynomialFeatures(degree=2, include_bias=True, interaction_only=False)\n",
    "kz = polyCoder.fit_transform(b)\n",
    "kz=pd.DataFrame(kz, columns=polyCoder.get_feature_names())\n",
    "kz\n",
    "\n",
    "## 标准化\n",
    "from sklearn.preprocessing import StandardScaler\n",
    "ssCoder = StandardScaler()\n",
    "bz = ssCoder.fit_transform(kz)\n",
    "bz=pd.DataFrame(bz)\n",
    "\n",
    "## 删除掉标准化的列\n",
    "df=df.drop(columns=['temp','atemp','hum','windspeed'])\n",
    "df.head()\n",
    "\n",
    "\n",
    "\n",
    "## 合并\n",
    "data=pd.concat([bz,kz,df],axis=1)\n",
    "data.head()\n",
    "\n",
    "## 构建X和Y\n",
    "X=data.iloc[:,0:-1]\n",
    "Y=data.iloc[:,[-1]]\n",
    "\n",
    "## 划分训练集和测试集\n",
    "from sklearn.model_selection import train_test_split\n",
    "X_train, X_test, Y_train, Y_test = train_test_split(X, Y, test_size = 0.3)\n",
    "\n",
    "\n",
    "## 训练LinearRegression模型\n",
    "import numpy as np\n",
    "from sklearn.linear_model import LinearRegression\n",
    "model = LinearRegression()\n",
    "model.fit(X_train,Y_train)\n",
    "model.score(X_test,Y_test)"
   ]
  }
 ],
 "metadata": {
  "kernelspec": {
   "display_name": "Python 3",
   "language": "python",
   "name": "python3"
  },
  "language_info": {
   "codemirror_mode": {
    "name": "ipython",
    "version": 3
   },
   "file_extension": ".py",
   "mimetype": "text/x-python",
   "name": "python",
   "nbconvert_exporter": "python",
   "pygments_lexer": "ipython3",
   "version": "3.6.5"
  }
 },
 "nbformat": 4,
 "nbformat_minor": 2
}
