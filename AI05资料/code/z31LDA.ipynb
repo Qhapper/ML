{
 "cells": [
  {
   "cell_type": "code",
   "execution_count": 37,
   "metadata": {},
   "outputs": [
    {
     "data": {
      "text/plain": [
       "array([0.99397147, 0.99831305])"
      ]
     },
     "execution_count": 37,
     "metadata": {},
     "output_type": "execute_result"
    }
   ],
   "source": [
    "import numpy as np\n",
    "np.random.beta(2000,2000)#能产生1个出自beta(20,20)分布的样本，可以看出出现0.5的可能性最大。\n",
    "np.random.beta(1000,3000)#能产生1个出自beta(10,30)分布的样本，可以看出出现0.25的可能性最大。\n"
   ]
  },
  {
   "cell_type": "code",
   "execution_count": 35,
   "metadata": {},
   "outputs": [
    {
     "data": {
      "text/plain": [
       "array([0.01777618, 0.19572321, 0.19415619, 0.19422402, 0.19856968,\n",
       "       0.19955072])"
      ]
     },
     "execution_count": 35,
     "metadata": {},
     "output_type": "execute_result"
    }
   ],
   "source": [
    "np.random.dirichlet((100,1000,1000,1000,1000,1000))"
   ]
  },
  {
   "cell_type": "code",
   "execution_count": 38,
   "metadata": {},
   "outputs": [
    {
     "name": "stdout",
     "output_type": "stream",
     "text": [
      "X\n",
      "0    宇航 学报 journal of astronautics vol no 空间 辐射 散热器...\n",
      "1    航空 工程 维修 aviation engineering maintenance no 飞...\n",
      "2    航空 工程 维修 aviation engineering maintenance no 双...\n",
      "3    航空 工程 维修 aviation engineering maintenance no 机...\n",
      "4    航空 工程 维修 aviation engineering maintenance no 介...\n",
      "Name: 1, dtype: object\n",
      "打印TF字典\n",
      "训练数据转为TF\n",
      "(1320, 39515)\n"
     ]
    },
    {
     "name": "stderr",
     "output_type": "stream",
     "text": [
      "d:\\Anaconda3\\lib\\site-packages\\sklearn\\decomposition\\online_lda.py:536: DeprecationWarning: The default value for 'learning_method' will be changed from 'online' to 'batch' in the release 0.20. This warning was introduced in 0.18.\n",
      "  DeprecationWarning)\n"
     ]
    },
    {
     "name": "stdout",
     "output_type": "stream",
     "text": [
      "[[9.99417172e-01 5.82828207e-04]\n",
      " [9.48272130e-01 5.17278701e-02]\n",
      " [8.36948741e-01 1.63051259e-01]\n",
      " ...\n",
      " [1.73361605e-03 9.98266384e-01]\n",
      " [2.72210690e-04 9.99727789e-01]\n",
      " [3.21560981e-04 9.99678439e-01]]\n",
      "[0 0 0 ... 1 1 1]\n",
      "0.9719696969696969\n",
      "lda.components_ (2, 39515)\n",
      "[[21051 13624 33775 ... 35179 19594 29264]\n",
      " [ 6931 20505  5995 ...  7991  3288 19038]]\n",
      "a [[21051 13624 33775 ... 35179 19594 29264]\n",
      " [ 6931 20505  5995 ...  7991  3288 19038]]\n",
      "分布\n",
      "确定\n",
      "使用\n",
      "得到\n",
      "具有\n",
      "提高\n",
      "工艺\n",
      "故障\n",
      "信号\n",
      "要求\n",
      "条件\n",
      "状态\n",
      "问题\n",
      "不同\n",
      "应用\n",
      "实验\n",
      "通过\n",
      "性能\n",
      "本文\n",
      "误差\n",
      "材料\n",
      "工作\n",
      "叶片\n",
      "变化\n",
      "航空\n",
      "时间\n",
      "由于\n",
      "速度\n",
      "温度\n",
      "过程\n",
      "参数\n",
      "数据\n",
      "发动机\n",
      "试验\n",
      "影响\n",
      "研究\n",
      "结果\n",
      "可以\n",
      "结构\n",
      "模型\n",
      "采用\n",
      "控制\n",
      "技术\n",
      "设计\n",
      "分析\n",
      "测量\n",
      "计算\n",
      "进行\n",
      "方法\n",
      "系统\n",
      "\n",
      "水平\n",
      "方面\n",
      "目标\n",
      "训练\n",
      "过程\n",
      "国家\n",
      "作用\n",
      "自己\n",
      "方法\n",
      "可以\n",
      "基础\n",
      "心理\n",
      "需要\n",
      "运动\n",
      "重要\n",
      "理论\n",
      "要求\n",
      "建设\n",
      "他们\n",
      "经济\n",
      "我国\n",
      "能力\n",
      "知识\n",
      "内容\n",
      "中国\n",
      "学科\n",
      "管理\n",
      "培养\n",
      "科学\n",
      "改革\n",
      "提高\n",
      "思想\n",
      "进行\n",
      "问题\n",
      "文化\n",
      "学习\n",
      "研究\n",
      "我们\n",
      "工作\n",
      "素质\n",
      "课程\n",
      "教师\n",
      "活动\n",
      "学校\n",
      "社会\n",
      "教学\n",
      "学生\n",
      "发展\n",
      "体育\n",
      "教育\n",
      "\n"
     ]
    }
   ],
   "source": [
    "import pandas as pd\n",
    "import numpy as np\n",
    "from sklearn.feature_extraction.text import CountVectorizer, TfidfVectorizer, TfidfTransformer\n",
    "from sklearn.model_selection import train_test_split\n",
    "df = pd.read_csv(\"datas/bayes_hangkong_tiyu.txt\",header=None)\n",
    "X = df[1]\n",
    "Y = df[0]\n",
    "print(\"X\")\n",
    "print(X.head())\n",
    "\n",
    "tfCoder = CountVectorizer(token_pattern=\"[\\u4e00-\\u9fa5]+\")\n",
    "X2 = tfCoder.fit_transform(X)\n",
    "dic = tfCoder.vocabulary_\n",
    "print(\"打印TF字典\")\n",
    "# print(dic){'宇航': 12538, '学报': 12459, '空间': 28636,\n",
    "\n",
    "print(\"训练数据转为TF\")\n",
    "print(X2.shape)\n",
    "# len(tfCoder.vocabulary_)39515\n",
    "from sklearn.decomposition import LatentDirichletAllocation\n",
    "lda = LatentDirichletAllocation(n_components =2,\n",
    "                                random_state=0)\n",
    "docres = lda.fit_transform(X2)\n",
    "\n",
    "# print(dic)\n",
    "print(docres)\n",
    "print(docres.argmax(axis=1))\n",
    "print(sum(docres.argmax(axis=1)==Y.values)/docres.shape[0])\n",
    "print (\"lda.components_\",lda.components_.shape)\n",
    "print (np.argsort(lda.components_))\n",
    "a = np.argsort(lda.components_)\n",
    "print(\"a\",a)\n",
    "b = [i[-50:] for i in a.tolist()]\n",
    "dic = {v:k for k,v in dic.items() }\n",
    "for i in b:\n",
    "    for j in i:\n",
    "        print(dic[j])\n",
    "    print()\n"
   ]
  }
 ],
 "metadata": {
  "kernelspec": {
   "display_name": "Python 3",
   "language": "python",
   "name": "python3"
  },
  "language_info": {
   "codemirror_mode": {
    "name": "ipython",
    "version": 3
   },
   "file_extension": ".py",
   "mimetype": "text/x-python",
   "name": "python",
   "nbconvert_exporter": "python",
   "pygments_lexer": "ipython3",
   "version": "3.6.5"
  }
 },
 "nbformat": 4,
 "nbformat_minor": 2
}
