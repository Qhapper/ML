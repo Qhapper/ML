{
 "cells": [
  {
   "cell_type": "code",
   "execution_count": 18,
   "metadata": {},
   "outputs": [
    {
     "name": "stdout",
     "output_type": "stream",
     "text": [
      "0.25000000000000056\n",
      "True\n",
      "[ 0.5  0.5 -2. ]\n"
     ]
    }
   ],
   "source": [
    "from scipy.optimize import minimize\n",
    "import numpy as np \n",
    "T = [[3,3,1],[4,3,1],[1,1,-1]]\n",
    "fun = lambda x: 0.5 * (x[0]**2 + x[1]**2)\n",
    "\n",
    "cons = [{'type': 'ineq', 'fun': lambda x,i=i: i[2]*(i[0]*x[0] + i[1]*x[1] + x[2]) - 1} for i in T]\n",
    "\n",
    "# cons = [{'type': 'ineq', 'fun': lambda x: 3*x[0] + 3*x[1] + x[2] - 1},\n",
    "#         {'type': 'ineq', 'fun': lambda x: 4*x[0] + 3*x[1] + x[2] - 1},\n",
    "#         {'type': 'ineq', 'fun': lambda x: -1*x[0] - x[1] - x[2] - 1},\n",
    "#        ]\n",
    "# cons[1][\"fun\"]([1,1,1])\n",
    "x0 = np.array((0.0, 0.0, 0.0))  \n",
    "\n",
    "res = minimize(fun,x0=x0, constraints=cons)\n",
    "print(res.fun)\n",
    "print(res.success)\n",
    "print(res.x)"
   ]
  },
  {
   "cell_type": "code",
   "execution_count": null,
   "metadata": {},
   "outputs": [],
   "source": [
    "import pandas as pd\n",
    "df = pd.read_csv(\"datas/covtype.data\",sep=\",\",header=None)\n",
    "X = df.iloc[:,0:-1]\n",
    "Y = df.iloc[:,-1]\n",
    "\n",
    "from sklearn.model_selection import train_test_split\n",
    "X_train, X_test, Y_train, Y_test = train_test_split(X, Y, test_size = 0.3)\n",
    "\n",
    "# from sklearn.ensemble import RandomForestClassifier\n",
    "# model = RandomForestClassifier(n_estimators=20)\n",
    "# model.fit(X_train,Y_train)\n",
    "\n",
    "from sklearn.svm import SVC\n",
    "model = SVC().fit(X_train,Y_train)\n",
    "print(model.score(X_test,Y_test))\n",
    "pd.crosstab(Y_test,model.predict(X_test),rownames=[\"label\"],colnames=[\"predict\"])\n"
   ]
  }
 ],
 "metadata": {
  "kernelspec": {
   "display_name": "Python 3",
   "language": "python",
   "name": "python3"
  },
  "language_info": {
   "codemirror_mode": {
    "name": "ipython",
    "version": 3
   },
   "file_extension": ".py",
   "mimetype": "text/x-python",
   "name": "python",
   "nbconvert_exporter": "python",
   "pygments_lexer": "ipython3",
   "version": "3.6.5"
  }
 },
 "nbformat": 4,
 "nbformat_minor": 2
}
