{
 "cells": [
  {
   "cell_type": "code",
   "execution_count": 13,
   "metadata": {
    "scrolled": false
   },
   "outputs": [
    {
     "data": {
      "text/plain": [
       "array([5.58627101, 5.70892661, 5.91507429, 6.40298844, 6.80138958,\n",
       "       7.05031425, 8.81502909, 8.77625336, 8.99061231, 9.02314108])"
      ]
     },
     "execution_count": 13,
     "metadata": {},
     "output_type": "execute_result"
    }
   ],
   "source": [
    "import pandas as pd\n",
    "import numpy as np\n",
    "from sklearn.tree import DecisionTreeRegressor\n",
    "df = pd.DataFrame([[1,5.56],[2,5.7],[3,5.91],[4,6.4],[5,6.8],[6,7.05],[7,8.9],[8,8.7],[9,9],[10,9.05]])\n",
    "X = df.iloc[:,[0]]\n",
    "Y = df.iloc[:,-1]\n",
    "\n",
    "#第一个模型\n",
    "F0 = np.mean(Y)\n",
    "learning_rate = 0.1\n",
    "M = [F0] #F0+0.1*F1+0.1*F2\n",
    "Y = Y - F0#计算负梯度（残差）\n",
    "n_trees = 110\n",
    "\n",
    "##模型训练部分\n",
    "for i in range(n_trees):\n",
    "    model = DecisionTreeRegressor(max_depth=1).fit(X,Y)\n",
    "    #将模型加入加法模型\n",
    "    M.append(model)\n",
    "    Y_het =  model.predict(X) \n",
    "    Y = Y - learning_rate * Y_het  #计算负梯度（残差）\n",
    "\n",
    "##模型预测部分\n",
    "res = np.zeros(df.shape[0])\n",
    "for i in range(len(M)):\n",
    "    if i == 0:\n",
    "        res += M[i]\n",
    "    else:\n",
    "        res += learning_rate * M[i].predict(X)\n",
    "res"
   ]
  },
  {
   "cell_type": "code",
   "execution_count": 15,
   "metadata": {},
   "outputs": [
    {
     "data": {
      "text/plain": [
       "array([-0.15, -0.15, -0.15, -0.15, -0.15, -0.15, -0.15, -0.15,  0.6 ,\n",
       "        0.6 ])"
      ]
     },
     "execution_count": 15,
     "metadata": {},
     "output_type": "execute_result"
    }
   ],
   "source": [
    "import pandas as pd\n",
    "import numpy as np\n",
    "import math\n",
    "from sklearn.tree import DecisionTreeRegressor\n",
    "df = pd.DataFrame([[1,-0.4],[2,-0.4],[3,-0.4],[4,0.6],[5,0.6],\n",
    "                   [6,-0.4],[7,-0.4],[8,-0.4],[9,0.6],[10,0.6]])\n",
    "X = df.iloc[:,[0]]\n",
    "Y = df.iloc[:,-1]\n",
    "model = DecisionTreeRegressor(max_depth=1).fit(X,Y)\n",
    "model.predict(X)\n",
    "\n",
    "\n",
    "\n"
   ]
  }
 ],
 "metadata": {
  "kernelspec": {
   "display_name": "Python 3",
   "language": "python",
   "name": "python3"
  },
  "language_info": {
   "codemirror_mode": {
    "name": "ipython",
    "version": 3
   },
   "file_extension": ".py",
   "mimetype": "text/x-python",
   "name": "python",
   "nbconvert_exporter": "python",
   "pygments_lexer": "ipython3",
   "version": "3.6.5"
  }
 },
 "nbformat": 4,
 "nbformat_minor": 2
}
