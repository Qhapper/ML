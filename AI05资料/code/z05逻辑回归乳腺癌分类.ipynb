{
 "cells": [
  {
   "cell_type": "code",
   "execution_count": 103,
   "metadata": {},
   "outputs": [
    {
     "data": {
      "text/plain": [
       "0.9737827715355806"
      ]
     },
     "execution_count": 103,
     "metadata": {},
     "output_type": "execute_result"
    }
   ],
   "source": [
    "import pandas as pd\n",
    "import numpy as np\n",
    "from sklearn.externals import joblib\n",
    "path = \"datas/breast-cancer-wisconsin.data\"\n",
    "names = ['id','Clump Thickness','Uniformity of Cell Size','Uniformity of Cell Shape',\n",
    "         'Marginal Adhesion','Single Epithelial Cell Size','Bare Nuclei',\n",
    "        'Bland Chromatin','Normal Nucleoli','Mitoses','Class']\n",
    "\n",
    "## 加载数据\n",
    "df = pd.read_csv(path,names=names)\n",
    "## 删除为空的数据\n",
    "df = df.replace(to_replace=\"?\",value=np.nan)\n",
    "df = df.dropna()\n",
    "df[\"Bare Nuclei\"] = df[\"Bare Nuclei\"].astype(np.int64)\n",
    "## 使用过采样，进行类别平衡\n",
    "# df[\"Class\"].value_counts() #2    444         4    239\n",
    "df_add = df[df[\"Class\"]==4]\n",
    "df_add = df_add.sample(n=444-239)\n",
    "df = pd.concat(objs=[df,df_add])\n",
    "\n",
    "## 提取X和Y\n",
    "X = df.iloc[:,1:-1]\n",
    "Y = df.iloc[:,-1]\n",
    "\n",
    "## 标准化\n",
    "# from sklearn.preprocessing import StandardScaler\n",
    "# ssCoder = StandardScaler()\n",
    "# std = ssCoder.fit_transform(X)\n",
    "# X = pd.DataFrame(std)\n",
    "# joblib.dump(filename=\"ss.model\",value=ssCoder)\n",
    "ssCoder = joblib.load(filename=\"ss.model\")\n",
    "std = ssCoder.transform(X)\n",
    "X = pd.DataFrame(std)\n",
    "## 分割数据集\n",
    "from sklearn.model_selection import train_test_split\n",
    "X_train, X_test, Y_train, Y_test = train_test_split(X, Y, test_size = 0.3)\n",
    "\n",
    "## 逻辑回归模型训练\n",
    "# from sklearn.linear_model import LogisticRegression\n",
    "# model = LogisticRegression()\n",
    "# model.fit(X_train,Y_train)\n",
    "# model.score(X_test,Y_test)\n",
    "\n",
    "\n",
    "joblib.dump(filename=\"LR.model\",value=model)\n",
    "model = joblib.load(filename=\"LR.model\")\n",
    "model.score(X_test,Y_test)"
   ]
  },
  {
   "cell_type": "code",
   "execution_count": null,
   "metadata": {},
   "outputs": [],
   "source": []
  }
 ],
 "metadata": {
  "kernelspec": {
   "display_name": "Python 3",
   "language": "python",
   "name": "python3"
  },
  "language_info": {
   "codemirror_mode": {
    "name": "ipython",
    "version": 3
   },
   "file_extension": ".py",
   "mimetype": "text/x-python",
   "name": "python",
   "nbconvert_exporter": "python",
   "pygments_lexer": "ipython3",
   "version": "3.6.5"
  }
 },
 "nbformat": 4,
 "nbformat_minor": 2
}
