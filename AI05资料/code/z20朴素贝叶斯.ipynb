{
 "cells": [
  {
   "cell_type": "code",
   "execution_count": 1,
   "metadata": {},
   "outputs": [
    {
     "data": {
      "text/plain": [
       "-1"
      ]
     },
     "execution_count": 1,
     "metadata": {},
     "output_type": "execute_result"
    }
   ],
   "source": [
    "import pandas as pd\n",
    "def tokey(col_name,category,y): #定义写key的函数,比如产生 'X1=3|Y=1'\n",
    "    return str(col_name)+\"=\"+str(category)+\"|Y=\"+str(y)\n",
    "df = pd.read_csv(\"datas/bayes_lihang.txt\")\n",
    "lam =  1#平滑因子\n",
    "P = {} #用于存储所有概率的字典\n",
    "Y = df[\"Y\"].value_counts().keys() #获取类别种类的list\n",
    "col_names = df.columns[:-1] #获取特征列名\n",
    "for y in Y: #遍历每个类别\n",
    "    df2 = df[df[\"Y\"]==y] #获取每个类别下的DF\n",
    "    p = (df2.shape[0]+lam)/(df.shape[0]+len(Y)*lam) #计算先验概率\n",
    "    P[y] = p#将先验概率加入P\n",
    "    for col_name in col_names: #遍历每个特征\n",
    "        categorys = df2[col_name].value_counts().keys() #获取每个特征下特征值种类的list\n",
    "        for category in categorys: #遍历每个特征值\n",
    "            p = (df2[df2[col_name]==category].shape[0]+lam)/(df2.shape[0]+lam*len(categorys)) #计算在某类别下，特征=某特征的条件概率\n",
    "            P[tokey(col_name,category,y)] = p#将条件概率加到P\n",
    "X = [2,\"S\"] #待测数据\n",
    "res = []  #用于存储属于某一类别的后验概率\n",
    "for y in Y: #遍历类别\n",
    "    p = P[y] #获取先验概率\n",
    "    for i in range(len(X)): #遍历特征\n",
    "        a = tokey(col_names[i],X[i],y)\n",
    "        p *= P[a]#获取条件概率\n",
    "    #将后验概率加入res\n",
    "    res.append(p)\n",
    "#返回最大的后验概率对应的类别\n",
    "import numpy as np\n",
    "Y[np.argmax(res)]\n"
   ]
  },
  {
   "cell_type": "code",
   "execution_count": null,
   "metadata": {},
   "outputs": [],
   "source": [
    "import pandas as pd\n",
    "def tokey(col_name,category,y): #定义写key的函数,比如产生 'X1=3|Y=1'\n",
    "    return col_name+\"=\"+str(category)+\"|Y=\"+str(y)\n",
    "df = pd.read_csv(\"datas/bayes_lihang.txt\")\n",
    "lam = 1 #平滑因子\n",
    "P = {} #用于存储所有概率的字典\n",
    "Y = list(set(df[\"Y\"])) #获取类别种类的list\n",
    "col_names = df.columns[0:-1] #获取特征列名\n",
    "for y in Y: #遍历每个类别\n",
    "    df2 = df[df[\"Y\"]==y] #获取每个类别下的DF\n",
    "    p = (df2.shape[0]+lam)/(df.shape[0]+len(Y)*lam) #计算先验概率\n",
    "    P[y] = p#将先验概率加入P\n",
    "    for col_name in col_names: #遍历每个特征  X2\n",
    "        categorys = set(df2[col_name]) #获取每个特征下特征值种类的list\n",
    "        for category in categorys: #遍历每个特征值\n",
    "            p = (df2[df2[col_name]==category].shape[0]+lam)/(df2.shape[0]+len(categorys)*lam) #计算在某类别下，特征=某特征的条件概率\n",
    "            P[tokey(col_name,category,y)] = p#将条件概率加到P\n",
    "print(P) \n",
    "X = [2,\"S\"] #待测数据\n",
    "res = []  #用于存储属于某一类别的后验概率\n",
    "for y in Y: #遍历类别\n",
    "    p = P[y] #获取先验概率\n",
    "    for i in range(len(X)): #遍历特征\n",
    "        p *= P[tokey(col_names[i],X[i],y)]#获取条件概率\n",
    "\n",
    "    #将后验概率加入res\n",
    "    res.append(p)\n",
    "#返回最大的后验概率对应的类别\n",
    "import numpy as np\n",
    "Y[np.argmax(res)]"
   ]
  }
 ],
 "metadata": {
  "kernelspec": {
   "display_name": "Python 3",
   "language": "python",
   "name": "python3"
  },
  "language_info": {
   "codemirror_mode": {
    "name": "ipython",
    "version": 3
   },
   "file_extension": ".py",
   "mimetype": "text/x-python",
   "name": "python",
   "nbconvert_exporter": "python",
   "pygments_lexer": "ipython3",
   "version": "3.6.5"
  }
 },
 "nbformat": 4,
 "nbformat_minor": 2
}
