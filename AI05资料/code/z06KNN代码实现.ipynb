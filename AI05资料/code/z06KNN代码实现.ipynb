{
 "cells": [
  {
   "cell_type": "code",
   "execution_count": 17,
   "metadata": {},
   "outputs": [
    {
     "data": {
      "text/plain": [
       "-1"
      ]
     },
     "execution_count": 17,
     "metadata": {},
     "output_type": "execute_result"
    }
   ],
   "source": [
    "##初始化数据\n",
    "T = [[3, 104, -1],\n",
    "    [2, 100, -1],\n",
    "    [1, 81, -1],\n",
    "    [101, 10, 1],\n",
    "    [99, 5, 1],\n",
    "    [98, 2, 1]]\n",
    "##初始化待测样本\n",
    "x = [18, 90]\n",
    "##初始化邻居数\n",
    "K = 5 \n",
    "\n",
    "##初始化存储距离列表[[距离1，标签1],[距离2，标签2]....]\n",
    "dis=[]\n",
    "\n",
    "##循环每一个数据点，把计算结果放入dis\n",
    "for i in T:\n",
    "    d = pow((i[0]-x[0])**2 + (i[1]-x[1])**2, 0.5)\n",
    "    dis.append([d,i[-1]])\n",
    "\n",
    "##对dis按照距离排序\n",
    "dis.sort(key=lambda x:x[0])\n",
    "##将前K个票放入投票箱\n",
    "-1 if sum([i[-1] for i in dis[:K]])<0 else 1\n",
    "##产生结果\n"
   ]
  },
  {
   "cell_type": "code",
   "execution_count": 20,
   "metadata": {},
   "outputs": [
    {
     "data": {
      "text/plain": [
       "-1"
      ]
     },
     "execution_count": 20,
     "metadata": {},
     "output_type": "execute_result"
    }
   ],
   "source": [
    "##初始化数据\n",
    "T = [[3, 104, -1],\n",
    "    [2, 100, -1],\n",
    "    [1, 81, -1],\n",
    "    [101, 10, 1],\n",
    "    [99, 5, 1],\n",
    "    [98, 2, 1]]\n",
    "##初始化待测样本\n",
    "x = [18, 90]\n",
    "##初始化邻居数\n",
    "K = 5 \n",
    "\n",
    "##初始化存储距离列表[[距离1，标签1],[距离2，标签2]....]\n",
    "dis=[]\n",
    "\n",
    "##循环每一个数据点，把计算结果放入dis\n",
    "for i in T:\n",
    "    d = pow((i[0]-x[0])**2 + (i[1]-x[1])**2, 0.5)\n",
    "    dis.append([d,i[-1]])\n",
    "\n",
    "##对dis按照距离排序\n",
    "dis.sort(key=lambda x:x[0])\n",
    "##将前K个票放入投票箱\n",
    "a = [i[-1]/i[0] for i in dis[:K]]\n",
    "##产生结果\n",
    "-1 if sum(a)<0 else 1\n"
   ]
  },
  {
   "cell_type": "code",
   "execution_count": 23,
   "metadata": {},
   "outputs": [
    {
     "data": {
      "text/plain": [
       "62.0"
      ]
     },
     "execution_count": 23,
     "metadata": {},
     "output_type": "execute_result"
    }
   ],
   "source": [
    "##初始化数据\n",
    "T = [[3, 104, 98],\n",
    "    [2, 100, 93],\n",
    "    [1, 81, 95],\n",
    "    [101, 10, 16],\n",
    "    [99, 5, 8],\n",
    "    [98, 2, 7]]\n",
    "\n",
    "##初始化待测样本\n",
    "x = [18, 90]\n",
    "##初始化邻居数\n",
    "K = 5 \n",
    "\n",
    "##初始化存储距离列表[[距离1，标签1],[距离2，标签2]....]\n",
    "dis=[]\n",
    "\n",
    "##循环每一个数据点，把计算结果放入dis\n",
    "for i in T:\n",
    "    d = pow((i[0]-x[0])**2 + (i[1]-x[1])**2, 0.5)\n",
    "    dis.append([d,i[-1]])\n",
    "\n",
    "##对dis按照距离排序\n",
    "dis.sort(key=lambda x:x[0])\n",
    "##将前K个票放入投票箱\n",
    "a = [i[-1] for i in dis[:K]]\n",
    "##产生结果\n",
    "# -1 if sum(a)<0 else 1\n",
    "from numpy import mean\n",
    "mean(a)"
   ]
  },
  {
   "cell_type": "code",
   "execution_count": 28,
   "metadata": {},
   "outputs": [
    {
     "data": {
      "text/plain": [
       "86.89041337014997"
      ]
     },
     "execution_count": 28,
     "metadata": {},
     "output_type": "execute_result"
    }
   ],
   "source": [
    "##初始化数据\n",
    "T = [[3, 104, 98],\n",
    "    [2, 100, 93],\n",
    "    [1, 81, 95],\n",
    "    [101, 10, 16],\n",
    "    [99, 5, 8],\n",
    "    [98, 2, 7]]\n",
    "\n",
    "##初始化待测样本\n",
    "x = [18, 90]\n",
    "##初始化邻居数\n",
    "K = 5 \n",
    "\n",
    "##初始化存储距离列表[[距离1，标签1],[距离2，标签2]....]\n",
    "dis=[]\n",
    "\n",
    "##循环每一个数据点，把计算结果放入dis\n",
    "for i in T:\n",
    "    d = pow((i[0]-x[0])**2 + (i[1]-x[1])**2, 0.5)\n",
    "    dis.append([d,i[-1]])\n",
    "\n",
    "##对dis按照距离排序\n",
    "dis.sort(key=lambda x:x[0])\n",
    "##将前K个票放入投票箱\n",
    "a = [i[-1]/i[0] for i in dis[:K]]\n",
    "b = sum([1/i[0] for i in dis[:K]])\n",
    "sum(a)/b"
   ]
  }
 ],
 "metadata": {
  "kernelspec": {
   "display_name": "Python 3",
   "language": "python",
   "name": "python3"
  },
  "language_info": {
   "codemirror_mode": {
    "name": "ipython",
    "version": 3
   },
   "file_extension": ".py",
   "mimetype": "text/x-python",
   "name": "python",
   "nbconvert_exporter": "python",
   "pygments_lexer": "ipython3",
   "version": "3.6.5"
  }
 },
 "nbformat": 4,
 "nbformat_minor": 2
}
