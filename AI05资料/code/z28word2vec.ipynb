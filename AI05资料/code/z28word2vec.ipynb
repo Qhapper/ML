{
 "cells": [
  {
   "cell_type": "code",
   "execution_count": 6,
   "metadata": {},
   "outputs": [
    {
     "name": "stderr",
     "output_type": "stream",
     "text": [
      "2018-11-07 11:27:46,805 : INFO : loading Word2Vec object from c.model\n",
      "2018-11-07 11:27:47,107 : INFO : loading wv recursively from c.model.wv.* with mmap=None\n",
      "2018-11-07 11:27:47,108 : INFO : setting ignored attribute vectors_norm to None\n",
      "2018-11-07 11:27:47,109 : INFO : loading vocabulary recursively from c.model.vocabulary.* with mmap=None\n",
      "2018-11-07 11:27:47,109 : INFO : loading trainables recursively from c.model.trainables.* with mmap=None\n",
      "2018-11-07 11:27:47,110 : INFO : setting ignored attribute cum_table to None\n",
      "2018-11-07 11:27:47,111 : INFO : loaded c.model\n",
      "d:\\Anaconda3\\lib\\site-packages\\ipykernel_launcher.py:12: DeprecationWarning: Call to deprecated `most_similar` (Method will be removed in 4.0.0, use self.wv.most_similar() instead).\n",
      "  if sys.path[0] == '':\n",
      "2018-11-07 11:27:47,172 : INFO : precomputing L2-norms of word weight vectors\n"
     ]
    },
    {
     "name": "stdout",
     "output_type": "stream",
     "text": [
      "未来\n",
      "苏联\n",
      "南斯拉夫\n",
      "朝鲜\n",
      "法国\n",
      "挑战\n",
      "民主德国\n",
      "芬兰\n",
      "民主主义\n",
      "南朝鲜\n",
      "法西斯\n",
      "利比里亚\n",
      "希腊\n",
      "胜利\n",
      "各国\n",
      "埃塞俄比亚\n",
      "本国\n",
      "亚太地区\n",
      "愿望\n",
      "友谊\n"
     ]
    },
    {
     "name": "stderr",
     "output_type": "stream",
     "text": [
      "d:\\Anaconda3\\lib\\site-packages\\gensim\\matutils.py:737: FutureWarning: Conversion of the second argument of issubdtype from `int` to `np.signedinteger` is deprecated. In future, it will be treated as `np.int32 == np.dtype(int).type`.\n",
      "  if np.issubdtype(vec.dtype, np.int):\n",
      "d:\\Anaconda3\\lib\\site-packages\\ipykernel_launcher.py:18: DeprecationWarning: Call to deprecated `__getitem__` (Method will be removed in 4.0.0, use self.wv.__getitem__() instead).\n"
     ]
    },
    {
     "data": {
      "text/plain": [
       "array([-0.48129997,  2.3787253 , -1.3780998 ,  2.9304597 , -0.05602983,\n",
       "       -1.4116057 , -1.9625698 , -0.8485281 ,  0.77331746,  0.3813177 ,\n",
       "       -0.55065346,  0.19241941,  0.61350346,  1.2366188 ,  2.3315372 ,\n",
       "        0.4341407 ,  1.1431655 ,  0.71877855, -1.2790428 ,  0.9455545 ,\n",
       "        1.0805387 ,  0.5925395 ,  0.6638079 ,  2.1053698 ,  0.43234247,\n",
       "       -0.01296858, -1.1395481 ,  0.6066199 ,  1.981511  ,  0.4275486 ,\n",
       "       -0.15402846,  1.0616035 ,  1.1232636 , -1.0187134 , -1.3821383 ,\n",
       "       -2.326721  , -0.30613342,  1.4233594 ,  0.972675  ,  0.44809103,\n",
       "       -1.6261818 ,  0.27758238,  0.44801623,  0.7491417 ,  2.5470347 ,\n",
       "       -2.4760494 ,  0.70800877,  0.09007049,  0.1351089 , -0.42957935,\n",
       "       -0.09481996, -0.64040023, -1.6099253 , -2.4976592 ,  2.2584136 ,\n",
       "       -1.4394706 ,  0.8814292 ,  0.22685072,  1.3200303 ,  0.9452294 ,\n",
       "        2.7912896 ,  0.4236063 , -1.6810952 ,  0.05982094, -0.03202126,\n",
       "        0.04483852,  0.47836557,  0.07318862, -0.7542903 ,  1.2837391 ,\n",
       "       -1.6816256 ,  2.1172001 , -1.9482937 , -3.1908188 ,  0.14182997,\n",
       "       -0.382     ,  1.487952  , -0.9401783 , -1.0717272 ,  0.8117157 ,\n",
       "        1.2504506 , -0.6638998 ,  1.888709  ,  0.8790923 , -0.9562102 ,\n",
       "       -0.20229049,  0.4725025 , -0.18026532, -1.5714953 , -0.08857212,\n",
       "       -0.6459158 , -0.6021256 , -1.2779633 , -1.4690229 ,  2.7938943 ,\n",
       "        0.04536972,  0.08453099, -0.13811441, -0.01885296, -0.351063  ,\n",
       "        1.1282941 , -0.83838874, -2.6048653 ,  0.25264397,  1.9216669 ,\n",
       "       -0.652848  , -1.2839663 ,  0.06436381,  1.2191049 ,  1.5943186 ,\n",
       "       -0.20810382, -1.5872904 , -0.27228397, -1.411486  ,  0.6303902 ,\n",
       "       -1.3319454 ,  0.04334687,  1.5697494 ,  0.95720357,  1.5644279 ,\n",
       "       -1.1215988 ,  0.47042933, -2.8097184 , -0.78523564,  0.2299061 ,\n",
       "       -1.2386316 , -0.4069633 ,  0.25689936, -0.6657251 , -0.46681577,\n",
       "        0.4659032 , -0.3647364 , -0.60955244, -1.0410951 ,  0.01227571,\n",
       "       -1.4936613 , -0.29270995,  0.43729144,  1.6578941 , -0.7571257 ,\n",
       "       -0.07826493,  0.15793426,  0.652127  , -1.6618801 ,  0.89867264,\n",
       "       -0.35888544,  0.19574736, -1.0668428 , -1.4998173 ,  1.404061  ,\n",
       "       -1.3530563 ,  0.6012743 , -0.2650236 ,  0.60886586,  0.21968421,\n",
       "       -0.2879766 , -0.51639706,  0.36253068,  2.6014633 ,  0.046345  ,\n",
       "       -1.1390188 ,  1.2393317 , -0.0102001 ,  0.12223074, -0.8457562 ,\n",
       "       -1.1696078 ,  1.162381  , -1.2504797 , -0.04164015, -1.6895939 ,\n",
       "       -0.72369057, -0.39145193, -3.3418765 , -0.7436263 ,  0.49685955,\n",
       "       -1.5605829 ,  0.186094  , -1.2849038 ,  1.531177  , -2.438752  ,\n",
       "       -1.6605022 ,  0.30127382,  0.7493944 ,  0.62336254,  0.28112763,\n",
       "       -1.2764599 ,  1.6679894 , -0.27033374, -0.4381648 , -1.2186894 ,\n",
       "        2.1267517 ,  0.7912365 , -1.1563183 ,  0.760313  , -0.59467775,\n",
       "        0.93885416,  0.02126591,  0.38230133,  0.14283799,  0.9009706 ],\n",
       "      dtype=float32)"
      ]
     },
     "execution_count": 6,
     "metadata": {},
     "output_type": "execute_result"
    }
   ],
   "source": [
    "from gensim.models import word2vec\n",
    "import logging\n",
    "\n",
    "# logging.basicConfig(format='%(asctime)s : %(levelname)s : %(message)s', level=logging.INFO)\n",
    "# sentences = word2vec.Text8Corpus(\"datas/trainCorpus.txt_utf8\")  # 加载语料\n",
    "# model = word2vec.Word2Vec(sentences, size=200) \n",
    "# model.save(u\"c.model\")\n",
    "\n",
    "\n",
    "\n",
    "model = word2vec.Word2Vec.load(u\"c.model\")\n",
    "y2 = model.most_similar(positive=[u\"中国\",u\"战争\"],topn=20)  # 20个最相关的\n",
    "for i in y2:\n",
    "    print (i[0])\n",
    "# y2 = model.most_similar(positive=[u\"美国\",u\"战争\"],topn=20)  # 20个最相关的\n",
    "# for i in y2:\n",
    "#     print (i[0],)\n",
    "model[\"中国\"]\n"
   ]
  }
 ],
 "metadata": {
  "kernelspec": {
   "display_name": "Python 3",
   "language": "python",
   "name": "python3"
  },
  "language_info": {
   "codemirror_mode": {
    "name": "ipython",
    "version": 3
   },
   "file_extension": ".py",
   "mimetype": "text/x-python",
   "name": "python",
   "nbconvert_exporter": "python",
   "pygments_lexer": "ipython3",
   "version": "3.6.5"
  }
 },
 "nbformat": 4,
 "nbformat_minor": 2
}
