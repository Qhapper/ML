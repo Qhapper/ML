{
 "cells": [
  {
   "cell_type": "code",
   "execution_count": 42,
   "metadata": {
    "scrolled": true
   },
   "outputs": [
    {
     "data": {
      "text/plain": [
       "[[1, 4], [6, 13], [21, 33]]"
      ]
     },
     "execution_count": 42,
     "metadata": {},
     "output_type": "execute_result"
    }
   ],
   "source": [
    "#区间合并\n",
    "a = [[2,3],[2,4],[1,4],[6,9],[6,9],[8,13],[21,33],[21,33]]\n",
    "#[[1, 4], [2, 3], [2, 4], [6, 9], [8, 13], [21, 33]]\n",
    "a.sort()\n",
    "b = []\n",
    "tmp = a[0]\n",
    "for i in a[1:]:\n",
    "    if tmp[1]>=i[0]:\n",
    "        if tmp[1]<=i[1]:\n",
    "            tmp[1] = i[1]\n",
    "        else :\n",
    "            continue\n",
    "    else :\n",
    "        b.append(tmp)\n",
    "        tmp = i\n",
    "        \n",
    "b.append(tmp)\n",
    "b"
   ]
  },
  {
   "cell_type": "code",
   "execution_count": 53,
   "metadata": {},
   "outputs": [
    {
     "name": "stdout",
     "output_type": "stream",
     "text": [
      "102334155\n"
     ]
    }
   ],
   "source": [
    "#斐波那契数列\n",
    "def f(max):\n",
    "    if max <= 0 :\n",
    "        return 0\n",
    "    if max == 1:\n",
    "        return 1\n",
    "    else:\n",
    "        return f(max-1)+f(max-2)\n",
    "# for i in range(10):\n",
    "#     print(f(i))\n",
    "print(f(40))"
   ]
  },
  {
   "cell_type": "code",
   "execution_count": 68,
   "metadata": {},
   "outputs": [],
   "source": [
    "a=[1,0,0,2,1,1,1,1,1,0,1,2,2,1,0,2,2,1,0,2,1,0,1,2,0,1,2]\n",
    "p0 = 0#左指针\n",
    "p2 = len(a)-1#右指针\n",
    "i = 0 #当前\n",
    "while i<p2:\n",
    "    if a[i]==0:\n",
    "        a[i],a[p0] = a[p0],a[i]\n",
    "        p0+=1\n",
    "    if a[i]==2:\n",
    "        a[i],a[p2] = a[p2],a[i]\n",
    "        p2-=1\n",
    "        i-=1\n",
    "    i+=1\n"
   ]
  },
  {
   "cell_type": "code",
   "execution_count": 102,
   "metadata": {},
   "outputs": [
    {
     "data": {
      "text/plain": [
       "['a', 'b', 'c', 'd', 'e']"
      ]
     },
     "execution_count": 102,
     "metadata": {},
     "output_type": "execute_result"
    }
   ],
   "source": [
    "arr = [\"a\",\"b\",\"c\",\"d\",\"e\"]\n",
    "def reverse(left,right):\n",
    "    while left<right:\n",
    "        arr[left],arr[right] = arr[right],arr[left]\n",
    "        left+=1\n",
    "        right-=1\n",
    "k = 4\n",
    "reverse(0,k)\n",
    "reverse(k+1,len(arr)-1)\n",
    "reverse(0,len(arr)-1)\n",
    "arr"
   ]
  },
  {
   "cell_type": "code",
   "execution_count": 91,
   "metadata": {},
   "outputs": [
    {
     "name": "stdout",
     "output_type": "stream",
     "text": [
      "['e', 'a', 'b', 'c', 'd']\n",
      "2183830455752\n",
      "2183830152328\n"
     ]
    }
   ],
   "source": [
    "list01 = [\"a\",\"b\",\"c\",\"d\",\"e\"]\n",
    "k = 4\n",
    "a = len(list01)\n",
    "list01[:k],list01[k-a:] = list01[k-a:],list01[:k]\n",
    "print(list01)\n",
    "a = [\"a\",\"b\"]\n",
    "print(id(a))\n",
    "print(id(a[:]))"
   ]
  },
  {
   "cell_type": "code",
   "execution_count": 96,
   "metadata": {},
   "outputs": [
    {
     "data": {
      "text/plain": [
       "2"
      ]
     },
     "execution_count": 96,
     "metadata": {},
     "output_type": "execute_result"
    }
   ],
   "source": [
    "# A=A^B;B=A^B;A=A^B\n",
    "a = 1\n",
    "b = 2\n",
    "a = a ^ b \n",
    "b = b ^ a\n",
    "a = a ^ b\n"
   ]
  },
  {
   "cell_type": "code",
   "execution_count": 104,
   "metadata": {},
   "outputs": [
    {
     "data": {
      "text/plain": [
       "[0, 1, 2, 3, 4, 5, 6, 7]"
      ]
     },
     "execution_count": 104,
     "metadata": {},
     "output_type": "execute_result"
    }
   ],
   "source": [
    "#直接插入排序\n",
    "lst = [6,3,5,7,0,4,1,2]\n",
    "for i in range(1,len(lst)):\n",
    "    key = lst[i]\n",
    "    for j in range(i)[::-1]:\n",
    "        if lst[j]>key:\n",
    "            lst[j+1]=lst[j]\n",
    "            lst[j]=key\n",
    "lst"
   ]
  },
  {
   "cell_type": "code",
   "execution_count": 105,
   "metadata": {},
   "outputs": [
    {
     "name": "stdout",
     "output_type": "stream",
     "text": [
      "[0, 1, 2, 3, 4, 5, 6, 7]\n"
     ]
    }
   ],
   "source": [
    "#冒泡\n",
    "lst = [6,3,5,7,0,4,1,2]\n",
    "for i in range(len(lst)):\n",
    "    for j in range(len(lst)-i-1):\n",
    "        if lst[j+1]<lst[j]:\n",
    "            lst[j+1],lst[j] = lst[j],lst[j+1]\n",
    "print(lst)"
   ]
  },
  {
   "cell_type": "code",
   "execution_count": null,
   "metadata": {},
   "outputs": [],
   "source": [
    "#快拍\n",
    "lst = [6,3,5,7,0,4,1,2]\n",
    "def part(v,left,right):\n",
    "    key = v[left]     \n",
    "    while left<right:\n",
    "        while left<right and v[right]>=key:\n",
    "            right -= 1\n",
    "        v[left] = v[right]\n",
    "        while left<right and v[left]<=key:\n",
    "            left += 1\n",
    "        v[right] = v[left]\n",
    "        v[left] = key\n",
    "    return left\n",
    "\n",
    "def qs(v,left,right):\n",
    "    if left<right:\n",
    "        p = part(v,left,right)\n",
    "        qs(v,left,p-1)\n",
    "        qs(v,p+1,right)\n",
    "    return v\n",
    "print(qs(lst, 0, len(lst)-1))"
   ]
  },
  {
   "cell_type": "code",
   "execution_count": 106,
   "metadata": {},
   "outputs": [
    {
     "data": {
      "text/plain": [
       "[0, 1, 2, 3, 4, 5, 6, 7]"
      ]
     },
     "execution_count": 106,
     "metadata": {},
     "output_type": "execute_result"
    }
   ],
   "source": [
    "#选择\n",
    "lst = [6,3,5,7,0,4,1,2]\n",
    "for i in range(len(lst)):\n",
    "    min_index = i\n",
    "    for j in range(i,len(lst)):\n",
    "        if lst[j]<lst[min_index]:\n",
    "            min_index = j\n",
    "    lst[i],lst[min_index] = lst[min_index],lst[i]\n",
    "\n",
    "lst"
   ]
  }
 ],
 "metadata": {
  "kernelspec": {
   "display_name": "Python 3",
   "language": "python",
   "name": "python3"
  },
  "language_info": {
   "codemirror_mode": {
    "name": "ipython",
    "version": 3
   },
   "file_extension": ".py",
   "mimetype": "text/x-python",
   "name": "python",
   "nbconvert_exporter": "python",
   "pygments_lexer": "ipython3",
   "version": "3.6.5"
  }
 },
 "nbformat": 4,
 "nbformat_minor": 2
}
