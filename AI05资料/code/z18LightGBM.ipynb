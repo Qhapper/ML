{
 "cells": [
  {
   "cell_type": "code",
   "execution_count": 1,
   "metadata": {},
   "outputs": [
    {
     "data": {
      "text/plain": [
       "1690.847267533667"
      ]
     },
     "execution_count": 1,
     "metadata": {},
     "output_type": "execute_result"
    }
   ],
   "source": [
    "from lightgbm.sklearn import LGBMRegressor\n",
    "import pandas as pd\n",
    "df = pd.read_csv(\"datas/hour.csv\", sep=\",\")\n",
    "\n",
    "## 删除无用的列\n",
    "del df[\"instant\"]\n",
    "del df[\"dteday\"]\n",
    "del df[\"casual\"]\n",
    "del df[\"registered\"]\n",
    "\n",
    "## 构建X和Y\n",
    "X = df.iloc[:,0:-1]\n",
    "Y = df.iloc[:,[-1]]\n",
    "\n",
    "## 划分训练集和测试集\n",
    "from sklearn.model_selection import train_test_split\n",
    "X_train, X_test, Y_train, Y_test = train_test_split(X, Y, test_size = 0.3)\n",
    "\n",
    "model = LGBMRegressor(max_depth=15)\n",
    "model.fit(X_train,Y_train)\n",
    "from sklearn.metrics import mean_squared_error\n",
    "mean_squared_error(model.predict(X_test),Y_test)\n"
   ]
  },
  {
   "cell_type": "code",
   "execution_count": 13,
   "metadata": {
    "scrolled": true
   },
   "outputs": [
    {
     "name": "stderr",
     "output_type": "stream",
     "text": [
      "d:\\Anaconda3\\lib\\site-packages\\sklearn\\preprocessing\\label.py:151: DeprecationWarning: The truth value of an empty array is ambiguous. Returning False, but in future this will result in an error. Use `array.size > 0` to check that an array is not empty.\n",
      "  if diff:\n"
     ]
    },
    {
     "data": {
      "text/plain": [
       "0.9325374059115109"
      ]
     },
     "execution_count": 13,
     "metadata": {},
     "output_type": "execute_result"
    }
   ],
   "source": [
    "from lightgbm.sklearn import LGBMClassifier\n",
    "import pandas as pd\n",
    "df = pd.read_csv(\"datas/covtype.data\",sep=\",\",header=None)\n",
    "\n",
    "## 构建X和Y\n",
    "X = df.iloc[:,0:-1]\n",
    "Y = df.iloc[:,-1]\n",
    "\n",
    "## 划分训练集和测试集\n",
    "X_train, X_test, Y_train, Y_test = train_test_split(X, Y, test_size = 0.3,random_state = 0)\n",
    "\n",
    "model = LGBMClassifier(num_leaves=400,n_estimators=50)\n",
    "model.fit(X_train,Y_train)\n",
    "model.score(X_test,Y_test)\n"
   ]
  }
 ],
 "metadata": {
  "kernelspec": {
   "display_name": "Python 3",
   "language": "python",
   "name": "python3"
  },
  "language_info": {
   "codemirror_mode": {
    "name": "ipython",
    "version": 3
   },
   "file_extension": ".py",
   "mimetype": "text/x-python",
   "name": "python",
   "nbconvert_exporter": "python",
   "pygments_lexer": "ipython3",
   "version": "3.6.5"
  }
 },
 "nbformat": 4,
 "nbformat_minor": 2
}
