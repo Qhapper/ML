{
 "cells": [
  {
   "cell_type": "code",
   "execution_count": 2,
   "metadata": {},
   "outputs": [
    {
     "name": "stdout",
     "output_type": "stream",
     "text": [
      "0.13021800000000003\n"
     ]
    }
   ],
   "source": [
    "#给定模型 和 观测序列，计算在模型 下观测序列出现的概率\n",
    "import numpy as np\n",
    "from hmmlearn import hmm\n",
    "import math\n",
    "states = [\"box 1\", \"box 2\", \"box 3\"]\n",
    "observations = [\"red\", \"white\"]\n",
    "start_probability = np.array([0.2, 0.4, 0.4])\n",
    "transition_probability = np.array([\n",
    "  [0.5, 0.2, 0.3],\n",
    "  [0.3, 0.5, 0.2],\n",
    "  [0.2, 0.3, 0.5]\n",
    "])\n",
    "emission_probability = np.array([\n",
    "  [0.5, 0.5],\n",
    "  [0.4, 0.6],\n",
    "  [0.7, 0.3]\n",
    "])\n",
    "\n",
    "model = hmm.MultinomialHMM(n_components=len(states))\n",
    "model.startprob_=start_probability\n",
    "model.transmat_=transition_probability\n",
    "model.emissionprob_=emission_probability\n",
    "\n",
    "ball_picked = [0,1,0]\n",
    "seen = np.array([ball_picked]).T\n",
    "\n",
    "a = model.score(seen) #score函数返回的是以自然对数为底的对数概率值ֵ\n",
    "print(math.exp(a))\n",
    "\n",
    "\n",
    "\n",
    "# result:\n",
    "# 0.130218\n",
    "# 给定模型 和 观测序列，计算在模型 下观测序列出现的概率:0.130218\n",
    "\n",
    "\n"
   ]
  },
  {
   "cell_type": "code",
   "execution_count": null,
   "metadata": {},
   "outputs": [],
   "source": [
    "#无监督学习 隐马尔科夫模型的学习问题：给观测序列 推算 模型参数\n",
    "import numpy as np\n",
    "from hmmlearn import hmm\n",
    "states = [\"box 1\", \"box 2\", \"box 3\"]\n",
    "observations = [\"red\", \"white\"]\n",
    "model = hmm.MultinomialHMM(n_components=len(states), n_iter=20, tol=0.01)\n",
    "seen = np.array([[0,1,0,1],[0,0,0,1],[1,0,1,1]])\n",
    "model.fit(seen)\n",
    "print(model.startprob_)\n",
    "print()\n",
    "print(model.transmat_)\n",
    "print()\n",
    "print(model.emissionprob_) \n",
    "\n",
    "# [  8.67510767e-11   1.00000000e+00   4.41182118e-12] #初始概率分布\n",
    "# [[  1.75337963e-01   6.41371396e-01   1.83290641e-01]  #状态转移概率分布\n",
    "#  [  4.49292494e-01   3.28996871e-05   5.50674606e-01]\n",
    "#  [  1.96457695e-01   5.94861793e-01   2.08680511e-01]]\n",
    "# [[ 0.18339428  0.81660572] #观测概率分布\n",
    "#  [ 0.99896576  0.00103424]\n",
    "#  [ 0.1505637   0.8494363 ]]\n",
    "\n"
   ]
  },
  {
   "cell_type": "code",
   "execution_count": 3,
   "metadata": {},
   "outputs": [
    {
     "name": "stdout",
     "output_type": "stream",
     "text": [
      "The ball picked: red, white, red\n",
      "The ball picked: box3, box3, box3\n"
     ]
    }
   ],
   "source": [
    "#coding=utf-8\n",
    "#解码问题：给定模型和观测序列，求最有可能的对应的状态序列\n",
    "import numpy as np\n",
    "from hmmlearn import hmm\n",
    "states = [\"box 1\", \"box 2\", \"box3\"]\n",
    "observations = [\"red\", \"white\"]\n",
    "start_probability = np.array([0.2, 0.4, 0.4])\n",
    "transition_probability = np.array([\n",
    "  [0.5, 0.2, 0.3],\n",
    "  [0.3, 0.5, 0.2],\n",
    "  [0.2, 0.3, 0.5]\n",
    "])\n",
    "emission_probability = np.array([\n",
    "  [0.5, 0.5],\n",
    "  [0.4, 0.6],\n",
    "  [0.7, 0.3]\n",
    "])\n",
    "model = hmm.MultinomialHMM(n_components=len(states))\n",
    "model.startprob_=start_probability\n",
    "model.transmat_=transition_probability\n",
    "model.emissionprob_=emission_probability\n",
    "ball_picked = [0,1,0]\n",
    "seen = np.array([ball_picked]).T\n",
    "states_predict = model.predict(seen)\n",
    "print(\"The ball picked:\", \", \".join([observations[i] for i in ball_picked]) )\n",
    "print( \"The ball picked:\", \", \".join([states[i] for i in states_predict])) \n",
    "# result:\n",
    "# The ball picked: red, white, red\n",
    "# The ball picked: box3, box3, box3\n",
    "# 给定模型和观测序列，求最有可能的对应的状态序列: box3, box3, box3\n"
   ]
  }
 ],
 "metadata": {
  "kernelspec": {
   "display_name": "Python 3",
   "language": "python",
   "name": "python3"
  },
  "language_info": {
   "codemirror_mode": {
    "name": "ipython",
    "version": 3
   },
   "file_extension": ".py",
   "mimetype": "text/x-python",
   "name": "python",
   "nbconvert_exporter": "python",
   "pygments_lexer": "ipython3",
   "version": "3.6.5"
  }
 },
 "nbformat": 4,
 "nbformat_minor": 2
}
