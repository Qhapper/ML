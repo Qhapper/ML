{
 "cells": [
  {
   "cell_type": "code",
   "execution_count": 24,
   "metadata": {
    "scrolled": true
   },
   "outputs": [
    {
     "name": "stdout",
     "output_type": "stream",
     "text": [
      "3.0625 3.955078125\n",
      "2.359375 2.2247314453125\n",
      "1.83203125 1.2514114379882812\n",
      "1.4365234375 0.7039189338684082\n",
      "1.139892578125 0.3959544003009796\n"
     ]
    }
   ],
   "source": [
    "import numpy as np\n",
    "def f(x):#原函数\n",
    "    return 0.5*(x-0.25)**2\n",
    "def h(x):#导函数\n",
    "    return x-0.25\n",
    "\n",
    "x = 4 #随机初始化一个位置，作为梯度下降的开始\n",
    "step = 0.25   #步长\n",
    "loss_change = 10000 #定义当前损失变化值\n",
    "loss_history = f(x)  #定义上一轮损失值\n",
    "iters=5\n",
    "while loss_change>0.0001 and iters>0 : #是否收敛\n",
    "    x = x-step*h(x)  #更新参数\n",
    "    loss = f(x) #当前损失值\n",
    "    loss_change = np.abs(loss_history - loss)   #当前损失变化值\n",
    "    loss_history = loss    #更新当前损失值\n",
    "    iters -= 1\n",
    "    print(x, loss)  #最小值点，最小值"
   ]
  },
  {
   "cell_type": "code",
   "execution_count": 36,
   "metadata": {},
   "outputs": [
    {
     "name": "stdout",
     "output_type": "stream",
     "text": [
      "3.0625 3.955078125\n",
      "2.359375 2.2247314453125\n",
      "1.83203125 1.2514114379882812\n",
      "1.4365234375 0.7039189338684082\n",
      "1.139892578125 0.3959544003009796\n",
      "0.91741943359375 0.22272435016930103\n",
      "0.7505645751953125 0.12528244697023183\n",
      "0.6254234313964844 0.0704713764207554\n",
      "0.5315675735473633 0.039640149236674915\n",
      "0.46117568016052246 0.02229758394562964\n",
      "0.40838176012039185 0.012542390969416672\n",
      "0.3687863200902939 0.007055094920296878\n",
      "0.3390897400677204 0.003968490892666994\n",
      "0.3168173050507903 0.002232276127125184\n",
      "0.30011297878809273 0.001255655321507916\n",
      "0.28758473409106955 0.0007063061183482028\n",
      "0.27818855056830216 0.00039729719157086406\n",
      "0.2711414129262266 0.00022347967025861104\n",
      "0.26585605969466997 0.00012570731452046872\n",
      "0.2618920447710025 7.071036441776364e-05\n"
     ]
    }
   ],
   "source": [
    "def f(x):#原函数\n",
    "    return 0.5*(x-0.25)**2\n",
    "\n",
    "def h(x):#导函数\n",
    "    return x-0.25\n",
    "\n",
    "x = 4 #随机初始化一个位置，作为梯度下降的开始\n",
    "step = 0.25   #步长\n",
    "loss_change = 10000    #定义当前损失变化值\n",
    "loss_history = f(x)  #定义上一轮损失值\n",
    "iters = 20\n",
    "while loss_change>1e-15 and iters>0: #是否收敛\n",
    "    x = x - step*h(x)  #更新参数\n",
    "    loss = f(x)  #当前损失值\n",
    "    loss_change = loss_history - loss  #当前损失变化值\n",
    "    loss_history = loss    #更新当前损失值\n",
    "    iters -= 1\n",
    "    print(x, loss)  #最小值点，最小值"
   ]
  },
  {
   "cell_type": "code",
   "execution_count": 31,
   "metadata": {},
   "outputs": [
    {
     "data": {
      "text/plain": [
       "1e-05"
      ]
     },
     "execution_count": 31,
     "metadata": {},
     "output_type": "execute_result"
    }
   ],
   "source": []
  }
 ],
 "metadata": {
  "kernelspec": {
   "display_name": "Python 3",
   "language": "python",
   "name": "python3"
  },
  "language_info": {
   "codemirror_mode": {
    "name": "ipython",
    "version": 3
   },
   "file_extension": ".py",
   "mimetype": "text/x-python",
   "name": "python",
   "nbconvert_exporter": "python",
   "pygments_lexer": "ipython3",
   "version": "3.6.5"
  }
 },
 "nbformat": 4,
 "nbformat_minor": 2
}
