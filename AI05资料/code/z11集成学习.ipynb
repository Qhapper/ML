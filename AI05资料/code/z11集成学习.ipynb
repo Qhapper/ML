{
 "cells": [
  {
   "cell_type": "code",
   "execution_count": 18,
   "metadata": {},
   "outputs": [
    {
     "data": {
      "text/plain": [
       "array([6.23361396, 6.23361396, 6.23361396, 6.2393248 , 6.27482499,\n",
       "       6.57431752, 8.15573042, 8.83172935, 8.8956078 , 8.8956078 ])"
      ]
     },
     "execution_count": 18,
     "metadata": {},
     "output_type": "execute_result"
    }
   ],
   "source": [
    "## bagging 回归\n",
    "import pandas as pd\n",
    "import numpy as np\n",
    "from sklearn.tree import DecisionTreeRegressor\n",
    "df = pd.DataFrame([[1,5.56],[2,5.7],[3,5.91],[4,6.4],[5,6.8],[6,7.05],[7,8.9],[8,8.7],[9,9],[10,9.05]])\n",
    "M = [] #存储决策树模型的数组\n",
    "n_trees = 1000  #设置树的颗数\n",
    "for i in range(n_trees):  #训练多棵树\n",
    "    tmp = df.sample(frac=0.9,replace=True)#对样本进行采样，目的是建造不同的树\n",
    "    X = tmp.iloc[:,[0]] #构造X\n",
    "    Y = tmp.iloc[:,[-1]]  #构造Y\n",
    "    model = DecisionTreeRegressor(max_depth=1).fit(X,Y)  #新建决策树模型\n",
    "    #将决策树模型加入数组\n",
    "    M.append(model)\n",
    "    #打印每个基础模型的效果\n",
    "\n",
    "X = df.iloc[:,[0]]#获取全部数据的X\n",
    "Y = df.iloc[:,[-1]]#获取全部数据的Y\n",
    "res = np.zeros(df.shape[0])#初始化全零向量\n",
    "for i in M: #遍历模型数组\n",
    "    res += i.predict(X) #将每个模型预测值叠加到res变量\n",
    "#取平均输出最终对每个样本标签的预测值\n",
    "res/n_trees\n"
   ]
  },
  {
   "cell_type": "code",
   "execution_count": 29,
   "metadata": {},
   "outputs": [
    {
     "data": {
      "text/plain": [
       "array([5.56115025, 5.70252961, 5.90632014, 6.40342107, 6.79910519,\n",
       "       7.04628398, 8.90037085, 8.70299739, 8.99769121, 9.05013031])"
      ]
     },
     "execution_count": 29,
     "metadata": {},
     "output_type": "execute_result"
    }
   ],
   "source": [
    "##boosting 回归\n",
    "import pandas as pd\n",
    "import numpy as np\n",
    "from sklearn.tree import DecisionTreeRegressor\n",
    "df = pd.DataFrame([[1,5.56],[2,5.7],[3,5.91],[4,6.4],[5,6.8]\n",
    "                   ,[6,7.05],[7,8.9],[8,8.7],[9,9],[10,9.05]],columns=[\"x\",\"y\"])\n",
    "\n",
    "M = [] #存储决策树模型的数组\n",
    "n_trees = 76  #设置树的颗数\n",
    "X = df.iloc[:,[0]] #构造X\n",
    "Y = df.iloc[:,[-1]]#构造Y\n",
    "for i in range(n_trees):  \n",
    "    model = DecisionTreeRegressor(max_depth=1).fit(X,Y)  #新建决策树模型\n",
    "    #将决策树模型加入数组\n",
    "    M.append(model)\n",
    "    Y_het = model.predict(X)#输出模型预测值\n",
    "    Y_het = pd.DataFrame(Y_het,columns=[\"y\"])#将模型预测值转为DataFrame\n",
    "    Y = Y -Y_het#改变原始的Y，让下一个学习器继续学习\n",
    "res =  np.zeros(df.shape[0])#初始化全零向量\n",
    "for i in M: #遍历模型数组\n",
    "    res += i.predict(X) #将每个模型预测值叠加到res变量\n",
    "#输出最终对每个样本标签的预测值\n",
    "res"
   ]
  },
  {
   "cell_type": "code",
   "execution_count": 39,
   "metadata": {},
   "outputs": [
    {
     "data": {
      "text/plain": [
       "array([ 95.,  95.,  87., -47., -95., -83.,  41.,  91.,  73., -27.])"
      ]
     },
     "execution_count": 39,
     "metadata": {},
     "output_type": "execute_result"
    }
   ],
   "source": [
    "##bagging 分类\n",
    "import pandas as pd\n",
    "import numpy as np\n",
    "from sklearn.tree import DecisionTreeClassifier\n",
    "df = pd.DataFrame([[0,1],[1,1],[2,1],[3,-1],[4,-1],\n",
    "                   [5,-1],[6,1],[7,1],[8,1],[9,-1]])\n",
    "M = []#存储决策树模型的数组\n",
    "n_trees = 101  #设置树的颗数\n",
    "for i in range(n_trees):  \n",
    "    tmp = df.sample(frac=0.9,replace=True)#对样本进行采样，目的是建造不同的树\n",
    "    X = tmp.iloc[:,[0]]#构造X\n",
    "    Y = tmp.iloc[:,[-1]]#构造Y\n",
    "    model = DecisionTreeClassifier(max_depth=3).fit(X,Y)#新建决策树模型\n",
    "\n",
    "    #将决策树模型加入数组\n",
    "    M.append(model)\n",
    "    #打印每个基础模型的效果\n",
    "    #     print(model.score(X,Y))\n",
    "\n",
    "X = df.iloc[:,[0]]#获取全部数据的X\n",
    "Y = df.iloc[:,[-1]]#获取全部数据的Y\n",
    "res =  np.zeros(df.shape[0])#初始化全零向量\n",
    "for model in M: #遍历模型数组\n",
    "    res += model.predict(X) #将每个模型预测值叠加到res变量\n",
    "#取平均输出最终对每个样本标签的预测值\n",
    "np.sign(res)\n",
    "res"
   ]
  }
 ],
 "metadata": {
  "kernelspec": {
   "display_name": "Python 3",
   "language": "python",
   "name": "python3"
  },
  "language_info": {
   "codemirror_mode": {
    "name": "ipython",
    "version": 3
   },
   "file_extension": ".py",
   "mimetype": "text/x-python",
   "name": "python",
   "nbconvert_exporter": "python",
   "pygments_lexer": "ipython3",
   "version": "3.6.5"
  }
 },
 "nbformat": 4,
 "nbformat_minor": 2
}
