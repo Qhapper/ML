{
 "cells": [
  {
   "cell_type": "code",
   "execution_count": 2,
   "metadata": {},
   "outputs": [
    {
     "name": "stdout",
     "output_type": "stream",
     "text": [
      "0\n",
      "10000\n",
      "20000\n",
      "30000\n",
      "40000\n",
      "50000\n",
      "60000\n",
      "70000\n",
      "80000\n",
      "90000\n",
      "100000\n",
      "110000\n",
      "120000\n",
      "130000\n",
      "140000\n",
      "150000\n",
      "160000\n",
      "170000\n",
      "180000\n",
      "190000\n",
      "200000\n",
      "210000\n",
      "220000\n",
      "230000\n",
      "240000\n",
      "250000\n",
      "260000\n",
      "270000\n",
      "280000\n",
      "290000\n"
     ]
    }
   ],
   "source": [
    "import sys\n",
    "import math\n",
    "import pdb\n",
    "state_M = 4\n",
    "word_N = 0\n",
    " \n",
    "A_dic = {}\n",
    "B_dic = {}\n",
    "Count_dic = {}\n",
    "Pi_dic = {}\n",
    "word_set = set()\n",
    "state_list = ['B','M','E','S']\n",
    "line_num = -1\n",
    " \n",
    "INPUT_DATA = \"datas/trainCorpus.txt_utf8\"\n",
    "PROB_START = \"prob_start.py\"   #初始状态概率\n",
    "PROB_EMIT = \"prob_emit.py\"     #发射概率\n",
    "PROB_TRANS = \"prob_trans.py\"   #转移概率\n",
    " \n",
    "\n",
    "def init():\n",
    "    global state_M\n",
    "    global word_N\n",
    "    for state in state_list:\n",
    "        A_dic[state] = {}\n",
    "        for state1 in state_list:\n",
    "            A_dic[state][state1] = 0.0\n",
    "    for state in state_list:\n",
    "        Pi_dic[state] = 0.0\n",
    "        B_dic[state] = {}\n",
    "        Count_dic[state] = 0\n",
    "\n",
    "# 输入词语  输出状态 B代表其实字，M代表中间字，E代表结束字，S代表单字成词\n",
    "def getList(input_str):\n",
    "    outpout_str = []\n",
    "    if len(input_str) == 1:\n",
    "        outpout_str.append('S')\n",
    "    elif len(input_str) == 2:\n",
    "        outpout_str = ['B','E']\n",
    "    else:\n",
    "        M_num = len(input_str) -2\n",
    "        M_list = ['M'] * M_num\n",
    "        outpout_str.append('B')\n",
    "        outpout_str.extend(M_list)\n",
    "        outpout_str.append('S')\n",
    "    return outpout_str\n",
    " \n",
    "# 输出模型的三个参数：初始概率+转移概率+发射概率\n",
    "def Output():\n",
    "    start_fp = open(PROB_START,'w',encoding='utf-8')\n",
    "    emit_fp = open(PROB_EMIT,'w',encoding='utf-8')\n",
    "    trans_fp = open(PROB_TRANS,'w',encoding='utf-8')\n",
    "     \n",
    "    for key in Pi_dic:\n",
    "        Pi_dic[key] = Pi_dic[key] * 1.0 / line_num\n",
    "    start_fp.write(str(Pi_dic))\n",
    " \n",
    "    for key in A_dic:\n",
    "        for key1 in A_dic[key]:\n",
    "            A_dic[key][key1] = A_dic[key][key1] / Count_dic[key]\n",
    "    trans_fp.write(str(A_dic))\n",
    " \n",
    "    for key in B_dic:\n",
    "        for word in B_dic[key]:\n",
    "            B_dic[key][word] = B_dic[key][word] / Count_dic[key]\n",
    "    emit_fp.write(str(B_dic))\n",
    "    \n",
    " \n",
    "    start_fp.close()\n",
    "    emit_fp.close()\n",
    "    trans_fp.close()\n",
    " \n",
    " \n",
    "def main():\n",
    "    ifp = open(INPUT_DATA,encoding='utf-8')\n",
    "    init()\n",
    "    global word_set\n",
    "    global line_num\n",
    "    for line in ifp:\n",
    "        line_num += 1\n",
    "        if line_num % 10000 == 0:\n",
    "            print (line_num)\n",
    " \n",
    "        line = line.strip()\n",
    "        if not line:\n",
    "            continue\n",
    "        # line = line.decode(\"utf-8\",\"ignore\")\n",
    " \n",
    "        word_list = []\n",
    "        for i in range(len(line)):\n",
    "            if line[i] == \" \":continue\n",
    "            word_list.append(line[i])\n",
    "        word_set = word_set | set(word_list)\n",
    " \n",
    " \n",
    "        lineArr = line.split(\" \")\n",
    "        line_state = []\n",
    "        for item in lineArr:\n",
    "            # 一句话对应一行连续的状态\n",
    "            line_state.extend(getList(item))\n",
    " \n",
    "        if len(word_list) != len(line_state):\n",
    "            print (sys.stderr,\"[line_num = %d][line = %s]\" % (line_num, line.encode(\"utf-8\",'ignore')))\n",
    "        else:\n",
    "            for i in range(len(line_state)):\n",
    "                if i == 0:\n",
    "                    # 计算转移概率\n",
    "                    Pi_dic[line_state[0]] += 1\n",
    "                    Count_dic[line_state[0]] += 1\n",
    "                else:\n",
    "                    # 计算发射概率\n",
    "                    A_dic[line_state[i-1]][line_state[i]] += 1\n",
    "                    Count_dic[line_state[i]] += 1\n",
    "                    # if not B_dic[line_state[i]].has_key(word_list[i]):\n",
    "                    if word_list[i] not in B_dic[line_state[i]]:\n",
    "                        B_dic[line_state[i]][word_list[i]] = 0.0\n",
    "                    else:\n",
    "                        B_dic[line_state[i]][word_list[i]] += 1\n",
    "    Output()\n",
    "    ifp.close()\n",
    "    \n",
    "if __name__ == \"__main__\":\n",
    "    main()\n"
   ]
  },
  {
   "cell_type": "code",
   "execution_count": 1,
   "metadata": {
    "scrolled": true
   },
   "outputs": [
    {
     "name": "stdout",
     "output_type": "stream",
     "text": [
      "老师不只是简单的教书\n",
      "['B', 'E', 'S', 'B', 'E', 'B', 'E', 'S', 'B', 'E']\n",
      "还要教授学生处事的道理与主动学习的精神\n",
      "['B', 'E', 'B', 'E', 'B', 'E', 'B', 'E', 'S', 'B', 'E', 'S', 'B', 'E', 'B', 'E', 'S', 'B', 'E']\n",
      "一架从柏林飞往美国的客机悄无声息地降落在肯尼迪国际机场一个废弃的跑道上\n",
      "['B', 'E', 'S', 'B', 'E', 'B', 'E', 'B', 'E', 'S', 'S', 'B', 'E', 'S', 'B', 'E', 'B', 'E', 'B', 'E', 'B', 'M', 'S', 'B', 'E', 'B', 'E', 'B', 'E', 'B', 'E', 'S', 'B', 'E', 'S']\n",
      "权力的游戏\n",
      "['B', 'E', 'S', 'B', 'E']\n"
     ]
    }
   ],
   "source": [
    "import os\n",
    "import sys\n",
    "import pdb\n",
    "\n",
    "def load_model(f_name):\n",
    "    ifp = open(f_name, 'rb')\n",
    "    return eval(ifp.read())\n",
    " \n",
    "prob_start = load_model(\"prob_start.py\")\n",
    "prob_trans = load_model(\"prob_trans.py\")\n",
    "prob_emit = load_model(\"prob_emit.py\")\n",
    " \n",
    "def viterbi(obs, states, start_p, trans_p, emit_p):\n",
    "    V = [{}] #tabular\n",
    "    path = {}\n",
    "    for y in states: #init\n",
    "        V[0][y] = start_p[y] * emit_p[y].get(obs[0],0)\n",
    "        path[y] = [y]\n",
    "    for t in range(1,len(obs)):\n",
    "        V.append({})\n",
    "        newpath = {}\n",
    "        for y in states:\n",
    "            (prob,state ) = max([(V[t-1][y0] * trans_p[y0].get(y,0) * emit_p[y].get(obs[t],0) ,y0) for y0 in states if V[t-1][y0]>0])\n",
    "            V[t][y] =prob\n",
    "            newpath[y] = path[state] + [y]\n",
    "        path = newpath\n",
    "    (prob, state) = max([(V[len(obs) - 1][y], y) for y in states])\n",
    "    return (prob, path[state])\n",
    " \n",
    "def cut(sentence):\n",
    "    #pdb.set_trace()\n",
    "    prob, pos_list =  viterbi(sentence,('B','M','E','S'), prob_start, prob_trans, prob_emit)\n",
    "    return (prob,pos_list)\n",
    " \n",
    "if __name__ == \"__main__\":\n",
    "    test_str = u\"老师不只是简单的教书\"\n",
    "    prob,pos_list = cut(test_str)\n",
    "    print  (test_str)\n",
    "    print  (pos_list)\n",
    "    test_str = u\"还要教授学生处事的道理与主动学习的精神\"\n",
    "    prob,pos_list = cut(test_str)\n",
    "    print  (test_str)\n",
    "    print  (pos_list)\n",
    "    test_str = u\"一架从柏林飞往美国的客机悄无声息地降落在肯尼迪国际机场一个废弃的跑道上\"\n",
    "    prob,pos_list = cut(test_str)\n",
    "    print  (test_str)\n",
    "    print  (pos_list)\n",
    "    test_str = u\"权力的游戏\"\n",
    "    prob,pos_list = cut(test_str)\n",
    "    print  (test_str)\n",
    "    print  (pos_list)"
   ]
  },
  {
   "cell_type": "code",
   "execution_count": 1,
   "metadata": {
    "scrolled": false
   },
   "outputs": [
    {
     "name": "stderr",
     "output_type": "stream",
     "text": [
      "Building prefix dict from the default dictionary ...\n",
      "Dumping model to file cache C:\\Users\\24463\\AppData\\Local\\Temp\\jieba.cache\n",
      "Loading model cost 1.151 seconds.\n",
      "Prefix dict has been built succesfully.\n"
     ]
    },
    {
     "name": "stdout",
     "output_type": "stream",
     "text": [
      "我 r\n",
      "爱 v\n",
      "北京 ns\n",
      "天安门 ns\n",
      "一架 m\n",
      "从 p\n",
      "柏林 nr\n",
      "飞往 v\n",
      "美国 ns\n",
      "的 uj\n",
      "客机 n\n",
      "悄无声息 l\n",
      "地 uv\n",
      "降落 v\n",
      "在 p\n",
      "肯尼迪 nr\n",
      "国际 n\n",
      "机场 n\n",
      "一个 m\n",
      "废弃 v\n",
      "的 uj\n",
      "跑道 v\n",
      "上 f\n"
     ]
    }
   ],
   "source": [
    "import jieba.posseg as pseg\n",
    "words =pseg.cut(u\"我爱北京天安门\")\n",
    "for w in words:\n",
    "    print(w.word,w.flag)\n",
    "words =pseg.cut(u\"一架从柏林飞往美国的客机悄无声息地降落在肯尼迪国际机场一个废弃的跑道上\")\n",
    "for w in words:\n",
    "    print(w.word,w.flag) \n"
   ]
  },
  {
   "cell_type": "code",
   "execution_count": 3,
   "metadata": {},
   "outputs": [
    {
     "data": {
      "text/plain": [
       "0.7689828525554734"
      ]
     },
     "execution_count": 3,
     "metadata": {},
     "output_type": "execute_result"
    }
   ],
   "source": [
    "a = -0.26268660809250016\n",
    "import math\n",
    "math.exp(a)"
   ]
  },
  {
   "cell_type": "code",
   "execution_count": 12,
   "metadata": {},
   "outputs": [
    {
     "name": "stdout",
     "output_type": "stream",
     "text": [
      "Default Mode: 北风网\n"
     ]
    },
    {
     "data": {
      "text/plain": [
       "['飞往', '客机', '跑道', '机上', '降落']"
      ]
     },
     "execution_count": 12,
     "metadata": {},
     "output_type": "execute_result"
    }
   ],
   "source": [
    "import jieba\n",
    "import jieba.analyse\n",
    "file_name = \"userDic.txt\"\n",
    "jieba.load_userdict(file_name)\n",
    "seg_list = jieba.cut(\"北风网\", cut_all=False)\n",
    "print(\"Default Mode: \" + \"/ \".join(seg_list))  # 精确模式\n",
    "sentence = \"一架从柏林飞往美国的客机悄无声息地降落在肯尼迪国际机场一个废弃的跑道上，机上两百多个人员全部神秘死亡\"\n",
    "jieba.analyse.extract_tags(sentence, topK=5, withWeight=False, allowPOS=('ns', 'n', 'vn', 'v'))"
   ]
  }
 ],
 "metadata": {
  "kernelspec": {
   "display_name": "Python 3",
   "language": "python",
   "name": "python3"
  },
  "language_info": {
   "codemirror_mode": {
    "name": "ipython",
    "version": 3
   },
   "file_extension": ".py",
   "mimetype": "text/x-python",
   "name": "python",
   "nbconvert_exporter": "python",
   "pygments_lexer": "ipython3",
   "version": "3.6.5"
  }
 },
 "nbformat": 4,
 "nbformat_minor": 2
}
