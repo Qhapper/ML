{
 "cells": [
  {
   "cell_type": "code",
   "execution_count": 17,
   "metadata": {},
   "outputs": [
    {
     "name": "stdout",
     "output_type": "stream",
     "text": [
      "[0.1  0.16 0.28]\n"
     ]
    },
    {
     "data": {
      "text/plain": [
       "0.130218"
      ]
     },
     "execution_count": 17,
     "metadata": {},
     "output_type": "execute_result"
    }
   ],
   "source": [
    "import numpy as np\n",
    "A = np.array([\n",
    "    [0.5,0.2,0.3],\n",
    "    [0.3,0.5,0.2],\n",
    "    [0.2,0.3,0.5]\n",
    "])\n",
    "B = np.array([[0.5,0.5],[0.4,0.6],[0.7,0.3]])\n",
    "pi = np.array([0.2,0.4,0.4])\n",
    "observ = [0,1,0]\n",
    "\n",
    "alpha = pi * B[:,0]\n",
    "print(alpha)\n",
    "\n",
    "for i in observ[1:]:\n",
    "    res = []\n",
    "    for j in range(len(pi)):\n",
    "        a = sum(alpha * A[:,j])* B[j][i]\n",
    "        res.append(a)\n",
    "    alpha = np.array(res)\n",
    "\n",
    "sum(alpha)"
   ]
  },
  {
   "cell_type": "code",
   "execution_count": 29,
   "metadata": {
    "scrolled": true
   },
   "outputs": [
    {
     "name": "stdout",
     "output_type": "stream",
     "text": [
      "hello world2hello world2hello world3hello world3\n",
      "hello world3\n",
      "hello world3\n",
      "hello world3\n"
     ]
    }
   ],
   "source": [
    "# a = open(\"test.txt\",encoding=\"utf-8\",mode='a')\n",
    "# a.write(\"hello world3\\n\")\n",
    "# a.close()\n",
    "\n",
    "for i in open(\"test.txt\",encoding=\"utf-8\"):\n",
    "    print(i,end=\"\")"
   ]
  },
  {
   "cell_type": "code",
   "execution_count": null,
   "metadata": {},
   "outputs": [],
   "source": [
    "A_name = [\"晴天\",\"阴天\",\"雨天\"]\n",
    "A = np.array([[0.6, 0.3, 0.1],\n",
    "              [0.4, 0.3, 0.3],\n",
    "              [0.1, 0.2, 0.7]])\n",
    "B_name = [\"郊游\",\"购物\",\"看书\",\"睡觉\"]\n",
    "B = np.array([[0.7, 0.2, 0.1, 0.0],\n",
    "              [0.2, 0.5, 0.2, 0.1],\n",
    "              [0.0, 0.0, 0.6, 0.4]])\n",
    "pi = np.array([0.4, 0.4, 0.2])"
   ]
  },
  {
   "cell_type": "code",
   "execution_count": 30,
   "metadata": {},
   "outputs": [],
   "source": [
    "import numpy as np\n",
    "import random\n",
    "file = open('generate.txt', encoding='utf-8', mode='w')\n",
    "\n",
    "A_name = [\"晴天\",\"阴天\",\"雨天\"]\n",
    "A = np.array([[0.6, 0.3, 0.1],\n",
    "              [0.4, 0.3, 0.3],\n",
    "              [0.1, 0.2, 0.7]])\n",
    "B_name = [\"郊游\",\"购物\",\"看书\",\"睡觉\"]\n",
    "B = np.array([[0.7, 0.2, 0.1, 0.0],\n",
    "              [0.2, 0.5, 0.2, 0.1],\n",
    "              [0.0, 0.0, 0.6, 0.4]])\n",
    "pi = np.array([0.4, 0.4, 0.2])\n",
    "\n",
    "for months in range(500):\n",
    "    \n",
    "    a = random.choices(A_name, weights=pi)[0]\n",
    "    b = random.choices(B_name, weights=B[A_name.index(a), :])[0]\n",
    "    d = a+'|'+b+' '*4\n",
    "    file.write(d)\n",
    "    for days in range(29):\n",
    "        a = random.choices(A_name, weights=A[A_name.index(a),:])[0]\n",
    "        b = random.choices(B_name, weights=B[A_name.index(a), :])[0]\n",
    "        d = a+'|'+b+' '*4\n",
    "        file.write(d)\n",
    "    file.write('\\n')\n",
    "#     break\n",
    "file.close()"
   ]
  },
  {
   "cell_type": "code",
   "execution_count": 81,
   "metadata": {},
   "outputs": [
    {
     "data": {
      "text/plain": [
       "['a']"
      ]
     },
     "execution_count": 81,
     "metadata": {},
     "output_type": "execute_result"
    }
   ],
   "source": [
    "a = [0.8,0.2]\n",
    "b = [\"a\",\"b\"]\n",
    "random.choices(b,weights=a)\n"
   ]
  },
  {
   "cell_type": "code",
   "execution_count": 180,
   "metadata": {},
   "outputs": [
    {
     "data": {
      "text/plain": [
       "0.15858030319213867"
      ]
     },
     "execution_count": 180,
     "metadata": {},
     "output_type": "execute_result"
    }
   ],
   "source": [
    "import numpy as np\n",
    "import random\n",
    "import time\n",
    "start = time.time()\n",
    "random.seed(666)\n",
    "A_name = [\"晴天\",\"阴天\",\"雨天\"]\n",
    "A = np.array([[0.6, 0.3, 0.1],\n",
    "              [0.4, 0.3, 0.3],\n",
    "              [0.1, 0.2, 0.7]])\n",
    "B_name = [\"郊游\",\"购物\",\"看书\",\"睡觉\"]\n",
    "B = np.array([[0.7, 0.2, 0.1, 0.0],\n",
    "              [0.2, 0.5, 0.2, 0.1],\n",
    "              [0.0, 0.0, 0.6, 0.4]])\n",
    "pi = np.array([0.4, 0.4, 0.2])\n",
    "\n",
    "writer = open(\"zyc_daily.txt\",encoding=\"utf-8\",mode='w')\n",
    "# (1)按照初始状态分布π产生状态 i1\n",
    "state = random.choices(A_name,weights=pi)[0] #第一个状态\n",
    "tmp = \"\"\n",
    "# (2)令 t=1\n",
    "for line in range(500):\n",
    "    for i in range(30):\n",
    "        # (3)按照状态 it 的观测概率分布生成ot\n",
    "        ob = random.choices(B_name,weights=B[A_name.index(state),:])[0]  #第一个观测\n",
    "        tmp += ob +\"/\"+state+\"\\t\"\n",
    "        # (4)按照状态 it 的状态转移概率分布产生状态it+1 \n",
    "        state = random.choices(A_name,weights=A[A_name.index(state),:])[0]\n",
    "        # (5)令 t=t+1；如果t<T，转步(3)；否则终止\n",
    "    tmp += \"\\n\"\n",
    "    writer.write(tmp)\n",
    "    tmp = \"\"\n",
    "    state = random.choices(A_name,weights=pi)[0] #第一个状态\n",
    "# writer.write(tmp)\n",
    "writer.close()\n",
    "end = time.time()\n",
    "end  - start"
   ]
  },
  {
   "cell_type": "code",
   "execution_count": 1,
   "metadata": {},
   "outputs": [
    {
     "data": {
      "text/plain": [
       "0.34308338165283203"
      ]
     },
     "execution_count": 1,
     "metadata": {},
     "output_type": "execute_result"
    }
   ],
   "source": [
    "import numpy as np\n",
    "import random\n",
    "import time\n",
    "start = time.time()\n",
    "random.seed(666)\n",
    "A_name = [\"晴天\",\"阴天\",\"雨天\"]\n",
    "A = np.array([[0.6, 0.3, 0.1],\n",
    "              [0.4, 0.3, 0.3],\n",
    "              [0.1, 0.2, 0.7]])\n",
    "B_name = [\"郊游\",\"购物\",\"看书\",\"睡觉\"]\n",
    "B = np.array([[0.7, 0.2, 0.1, 0.0],\n",
    "              [0.2, 0.5, 0.2, 0.1],\n",
    "              [0.0, 0.0, 0.6, 0.4]])\n",
    "pi = np.array([0.4, 0.4, 0.2])\n",
    "\n",
    "states = []\n",
    "observes = []\n",
    "writer = open(\"zyc_daily.txt\",encoding=\"utf-8\",mode='w')\n",
    "# (1)按照初始状态分布π产生状态 i1\n",
    "state = random.choices(A_name,weights=pi)[0] #第一个状态\n",
    "# (2)令 t=1\n",
    "for line in range(1000):\n",
    "    for i in range(30):\n",
    "        # (3)按照状态 it 的观测概率分布生成ot\n",
    "        ob = random.choices(B_name,weights=B[A_name.index(state),:])[0]  #第一个观测\n",
    "        writer.write(ob +\"/\"+state+\"\\t\")\n",
    "        # (4)按照状态 it 的状态转移概率分布产生状态it+1 \n",
    "        state = random.choices(A_name,weights=A[A_name.index(state),:])[0]\n",
    "        # (5)令 t=t+1；如果t<T，转步(3)；否则终止\n",
    "    writer.write(\"\\n\")\n",
    "    state = random.choices(A_name,weights=pi)[0] #第一个状态\n",
    "writer.close()\n",
    "end = time.time()\n",
    "end  - start"
   ]
  },
  {
   "cell_type": "code",
   "execution_count": 189,
   "metadata": {},
   "outputs": [
    {
     "name": "stdout",
     "output_type": "stream",
     "text": [
      "111\n"
     ]
    }
   ],
   "source": [
    "dic = {\"小米\":3599,\"华为\":5000}\n",
    "a = \"小米\"\n",
    "if a in dic:\n",
    "    print(111)"
   ]
  },
  {
   "cell_type": "code",
   "execution_count": 13,
   "metadata": {
    "scrolled": true
   },
   "outputs": [
    {
     "data": {
      "text/plain": [
       "{'阴天睡觉': 809,\n",
       " '阴天购物': 3929,\n",
       " '雨天看书': 6733,\n",
       " '雨天睡觉': 4413,\n",
       " '晴天购物': 2196,\n",
       " '阴天郊游': 1515,\n",
       " '晴天郊游': 7717,\n",
       " '阴天看书': 1612,\n",
       " '晴天看书': 1076}"
      ]
     },
     "execution_count": 13,
     "metadata": {},
     "output_type": "execute_result"
    }
   ],
   "source": [
    "import numpy as np\n",
    "A_name = [\"晴天\",\"阴天\",\"雨天\"]\n",
    "# A = np.array([[0.6, 0.3, 0.1],\n",
    "#               [0.4, 0.3, 0.3],\n",
    "#               [0.1, 0.2, 0.7]])\n",
    "B_name = [\"郊游\",\"购物\",\"看书\",\"睡觉\"]\n",
    "# B = np.array([[0.7, 0.2, 0.1, 0.0],\n",
    "#               [0.2, 0.5, 0.2, 0.1],\n",
    "#               [0.0, 0.0, 0.6, 0.4]])\n",
    "# pi = np.array([0.4, 0.4, 0.2])\n",
    "pi = {}\n",
    "A = {}\n",
    "B = {}\n",
    "for line in open(\"zyc_daily.txt\",encoding=\"utf-8\"):\n",
    "    lst2D = [i.split(\"/\") for i in line[:-2].split(\"\\t\")] #[['睡觉', '阴天'], ['购物', '阴天'], \n",
    "    key = lst2D[0][1]\n",
    "    if key not in pi:\n",
    "        pi[key] = 1\n",
    "    else:\n",
    "        pi[key] += 1\n",
    "        \n",
    "    for i in range(len(lst2D)-1):\n",
    "        key = lst2D[i][1] + lst2D[i+1][1]\n",
    "        if key not in A:\n",
    "            A[key] = 1\n",
    "        else:\n",
    "            A[key] += 1\n",
    "            \n",
    "    for lst in lst2D:  #[['睡觉', '阴天'], ['\n",
    "        key = lst[1] + lst[0]\n",
    "        if key not in B:\n",
    "            B[key] = 1\n",
    "        else:\n",
    "            B[key] += 1\n",
    "B"
   ]
  },
  {
   "cell_type": "code",
   "execution_count": 5,
   "metadata": {},
   "outputs": [
    {
     "name": "stdout",
     "output_type": "stream",
     "text": [
      "{'阴天睡觉': 809, '阴天购物': 3929, '雨天看书': 6733, '雨天睡觉': 4413, '晴天购物': 2196, '阴天郊游': 1515, '晴天郊游': 7717, '阴天看书': 1612, '晴天看书': 1076}\n",
      "809\n",
      "3929\n",
      "6733\n",
      "4413\n",
      "2196\n",
      "1515\n",
      "7717\n",
      "1612\n",
      "1076\n"
     ]
    }
   ],
   "source": [
    "dic = {'阴天睡觉': 809,\n",
    " '阴天购物': 3929,\n",
    " '雨天看书': 6733,\n",
    " '雨天睡觉': 4413,\n",
    " '晴天购物': 2196,\n",
    " '阴天郊游': 1515,\n",
    " '晴天郊游': 7717,\n",
    " '阴天看书': 1612,\n",
    " '晴天看书': 1076}\n",
    "print(dic)\n",
    "A_name = [\"晴天\",\"阴天\",\"雨天\"]\n",
    "for key,value in dic.items():\n",
    "    "
   ]
  },
  {
   "cell_type": "code",
   "execution_count": 1,
   "metadata": {
    "scrolled": false
   },
   "outputs": [
    {
     "name": "stdout",
     "output_type": "stream",
     "text": [
      "[2.21164204e-53 1.00000000e+00 9.50861895e-16]\n",
      "\n",
      "[[3.74962315e-01 4.70502125e-01 1.54535560e-01]\n",
      " [5.99866988e-01 1.47154549e-08 4.00132997e-01]\n",
      " [2.33758102e-02 9.48677245e-01 2.79469444e-02]]\n",
      "\n",
      "[[4.29109220e-04 9.99570891e-01]\n",
      " [9.99954032e-01 4.59682907e-05]\n",
      " [3.89668151e-01 6.10331849e-01]]\n"
     ]
    }
   ],
   "source": [
    "#无监督学习 隐马尔科夫模型的学习问题：给观测序列 推算 模型参数\n",
    "import numpy as np\n",
    "from hmmlearn import hmm\n",
    "states = [\"box 1\", \"box 2\", \"box 3\"]\n",
    "observations = [\"red\", \"white\"]\n",
    "model = hmm.MultinomialHMM(n_components=len(states), n_iter=20, tol=0.01)\n",
    "seen = np.array([[0,1,0,1],[0,0,0,1],[1,0,1,1]])\n",
    "model.fit(seen)\n",
    "print(model.startprob_)\n",
    "print()\n",
    "print(model.transmat_)\n",
    "print()\n",
    "print(model.emissionprob_) \n",
    "\n",
    "# [  8.67510767e-11   1.00000000e+00   4.41182118e-12] #初始概率分布\n",
    "# [[  1.75337963e-01   6.41371396e-01   1.83290641e-01]  #状态转移概率分布\n",
    "#  [  4.49292494e-01   3.28996871e-05   5.50674606e-01]\n",
    "#  [  1.96457695e-01   5.94861793e-01   2.08680511e-01]]\n",
    "# [[ 0.18339428  0.81660572] #观测概率分布\n",
    "#  [ 0.99896576  0.00103424]\n",
    "#  [ 0.1505637   0.8494363 ]]\n"
   ]
  },
  {
   "cell_type": "code",
   "execution_count": 7,
   "metadata": {
    "scrolled": false
   },
   "outputs": [
    {
     "name": "stdout",
     "output_type": "stream",
     "text": [
      "[6.63658678e-15 3.14497113e-09 9.99999997e-01]\n",
      "\n",
      "[[0.42254127 0.28586968 0.29158905]\n",
      " [0.30700558 0.52086236 0.17213206]\n",
      " [0.44936857 0.23792007 0.31271136]]\n",
      "\n",
      "[[0.31136335 0.04348903 0.5672438  0.07790382]\n",
      " [0.47942077 0.26158291 0.17076673 0.08822959]\n",
      " [0.06063206 0.36859673 0.1291769  0.44159431]]\n"
     ]
    }
   ],
   "source": [
    "import numpy as np\n",
    "from hmmlearn import hmm\n",
    "states = [\"box 1\", \"box 2\", \"box 3\"]\n",
    "observations = [\"red\", \"white\"]\n",
    "model = hmm.MultinomialHMM(n_components=len(states), n_iter=20, tol=0.01)\n",
    "B_name = [\"郊游\",\"购物\",\"看书\",\"睡觉\"]\n",
    "B=[]\n",
    "for line in open(\"zyc_daily.txt\",encoding=\"utf-8\"):\n",
    "    a = [i.split(\"/\") for i in line[:-2].split(\"\\t\")] #[['睡觉', '阴天'], ['购物', '阴天'], \n",
    "    b=[]\n",
    "    for j in range(len(a)):        \n",
    "        b.append(B_name.index(a[j][0]))\n",
    "    B.append(b)\n",
    "\n",
    "seen = np.array(B)\n",
    "model.fit(seen)\n",
    "print(model.startprob_)\n",
    "print()\n",
    "print(model.transmat_)\n",
    "print()\n",
    "print(model.emissionprob_) "
   ]
  },
  {
   "cell_type": "code",
   "execution_count": 16,
   "metadata": {},
   "outputs": [
    {
     "data": {
      "text/plain": [
       "[2, 1, 0]"
      ]
     },
     "execution_count": 16,
     "metadata": {},
     "output_type": "execute_result"
    }
   ],
   "source": [
    "dp = [[2,2,2],[1,1,2]]\n",
    "start = 0\n",
    "states = [start]\n",
    "\n",
    "for i in dp[::-1]:\n",
    "    states.append(i[start])\n",
    "    start = i[start]\n",
    "states.reverse()\n",
    "states"
   ]
  },
  {
   "cell_type": "code",
   "execution_count": 20,
   "metadata": {},
   "outputs": [
    {
     "data": {
      "text/plain": [
       "array([0.1 , 0.16, 0.28])"
      ]
     },
     "execution_count": 20,
     "metadata": {},
     "output_type": "execute_result"
    }
   ],
   "source": [
    "import numpy as np\n",
    "A = np.array([\n",
    "    [0.5,0.2,0.3],\n",
    "    [0.3,0.5,0.2],\n",
    "    [0.2,0.3,0.5]\n",
    "])\n",
    "B = np.array([[0.5,0.5],[0.4,0.6],[0.7,0.3]])\n",
    "pi = np.array([0.2,0.4,0.4])\n",
    "observ = [0,1,0]\n",
    "alpha = pi * B[:,0]\n",
    "\n",
    "result = []\n",
    "for i in observ[1:]: #遍历观测\n",
    "    res = [];index = []\n",
    "    for j in range(len(pi)): #遍历状态\n",
    "        a = alpha * A[:,j] * B[j][i]\n",
    "        res.append(a)\n",
    "        index.append(np.argmax(a))\n",
    "    alpha = np.max(res,axis=1)\n",
    "    result.append(index)\n",
    "    \n",
    "start = np.argmax(alpha)\n",
    "states = [start]\n",
    "for i in result[::-1]:\n",
    "    states.append(i[start])\n",
    "    start = i[start]\n",
    "states.reverse()\n",
    "states"
   ]
  }
 ],
 "metadata": {
  "kernelspec": {
   "display_name": "Python 3",
   "language": "python",
   "name": "python3"
  },
  "language_info": {
   "codemirror_mode": {
    "name": "ipython",
    "version": 3
   },
   "file_extension": ".py",
   "mimetype": "text/x-python",
   "name": "python",
   "nbconvert_exporter": "python",
   "pygments_lexer": "ipython3",
   "version": "3.6.5"
  }
 },
 "nbformat": 4,
 "nbformat_minor": 2
}
